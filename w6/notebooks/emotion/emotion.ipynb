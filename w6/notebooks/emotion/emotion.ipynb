{
 "cells": [
  {
   "cell_type": "markdown",
   "id": "3417c44a-146a-4abb-a4a6-70be2de426d3",
   "metadata": {},
   "source": [
    "## Imports"
   ]
  },
  {
   "cell_type": "code",
   "execution_count": 31,
   "id": "28de4980-84eb-48ad-affb-411a51703d5c",
   "metadata": {},
   "outputs": [],
   "source": [
    "import operator\n",
    "import pickle\n",
    "import re\n",
    "from collections import defaultdict, Counter\n",
    "from itertools import count\n",
    "from typing import List, Dict, Any, Tuple, Union, Optional, Callable\n",
    "\n",
    "import matplotlib.pyplot as plt\n",
    "import seaborn as sns\n",
    "import torch\n",
    "import torch.nn as nn\n",
    "import torch.nn.functional as F\n",
    "from datasets import load_dataset\n",
    "from nltk.tokenize import sent_tokenize\n",
    "from sklearn.model_selection import train_test_split\n",
    "from sklearn.metrics import accuracy_score, f1_score\n",
    "from tqdm.auto import tqdm\n",
    "from torch.utils.data import Dataset, DataLoader\n",
    "from torch.nn.utils import clip_grad_norm"
   ]
  },
  {
   "cell_type": "markdown",
   "id": "3dc20641-23d9-40e6-99af-87b7bfc8829f",
   "metadata": {},
   "source": [
    "## Data Preparation"
   ]
  },
  {
   "cell_type": "code",
   "execution_count": 140,
   "id": "c2b7e73e-ffba-48e0-a140-32c9aaa5e0c4",
   "metadata": {},
   "outputs": [
    {
     "data": {
      "application/vnd.jupyter.widget-view+json": {
       "model_id": "f91c079e72484e72bcda77b0bb014491",
       "version_major": 2,
       "version_minor": 0
      },
      "text/plain": [
       "README.md:   0%|          | 0.00/9.05k [00:00<?, ?B/s]"
      ]
     },
     "metadata": {},
     "output_type": "display_data"
    },
    {
     "data": {
      "application/vnd.jupyter.widget-view+json": {
       "model_id": "811ab49087f3495686378f76b9f934ac",
       "version_major": 2,
       "version_minor": 0
      },
      "text/plain": [
       "train-00000-of-00001.parquet:   0%|          | 0.00/1.03M [00:00<?, ?B/s]"
      ]
     },
     "metadata": {},
     "output_type": "display_data"
    },
    {
     "data": {
      "application/vnd.jupyter.widget-view+json": {
       "model_id": "d6447611ddf747babe5ceb1415bd55a8",
       "version_major": 2,
       "version_minor": 0
      },
      "text/plain": [
       "validation-00000-of-00001.parquet:   0%|          | 0.00/127k [00:00<?, ?B/s]"
      ]
     },
     "metadata": {},
     "output_type": "display_data"
    },
    {
     "data": {
      "application/vnd.jupyter.widget-view+json": {
       "model_id": "2e5f81827ca14c8e91494326f53d0dc0",
       "version_major": 2,
       "version_minor": 0
      },
      "text/plain": [
       "test-00000-of-00001.parquet:   0%|          | 0.00/129k [00:00<?, ?B/s]"
      ]
     },
     "metadata": {},
     "output_type": "display_data"
    },
    {
     "data": {
      "application/vnd.jupyter.widget-view+json": {
       "model_id": "b4b26a8e470343e9920fdf48c6fcaa64",
       "version_major": 2,
       "version_minor": 0
      },
      "text/plain": [
       "Generating train split:   0%|          | 0/16000 [00:00<?, ? examples/s]"
      ]
     },
     "metadata": {},
     "output_type": "display_data"
    },
    {
     "data": {
      "application/vnd.jupyter.widget-view+json": {
       "model_id": "2e05d067eaa6414db9433a2d81a6fcbe",
       "version_major": 2,
       "version_minor": 0
      },
      "text/plain": [
       "Generating validation split:   0%|          | 0/2000 [00:00<?, ? examples/s]"
      ]
     },
     "metadata": {},
     "output_type": "display_data"
    },
    {
     "data": {
      "application/vnd.jupyter.widget-view+json": {
       "model_id": "25ed6a8ab1174c6db83e90b2cee14df4",
       "version_major": 2,
       "version_minor": 0
      },
      "text/plain": [
       "Generating test split:   0%|          | 0/2000 [00:00<?, ? examples/s]"
      ]
     },
     "metadata": {},
     "output_type": "display_data"
    }
   ],
   "source": [
    "dataset = load_dataset(\"dair-ai/emotion\", \"split\")"
   ]
  },
  {
   "cell_type": "code",
   "execution_count": 143,
   "id": "9d6856e3-9b64-4022-b78a-e885debab679",
   "metadata": {},
   "outputs": [
    {
     "data": {
      "text/plain": [
       "{'text': 'i didnt feel humiliated', 'label': 0}"
      ]
     },
     "execution_count": 143,
     "metadata": {},
     "output_type": "execute_result"
    }
   ],
   "source": [
    "dataset[\"train\"][0]"
   ]
  },
  {
   "cell_type": "code",
   "execution_count": 142,
   "id": "781b4b82-f6a0-4fce-be0f-500aa1166f39",
   "metadata": {},
   "outputs": [],
   "source": [
    "LABEL_ENCODER = {\n",
    "    0: \"sadness\",\n",
    "    1: \"joy\",\n",
    "    2: \"love\",\n",
    "    3: \"anger\",\n",
    "    4: \"fear\",\n",
    "    5: \"surprise\"\n",
    "}"
   ]
  },
  {
   "cell_type": "code",
   "execution_count": 144,
   "id": "15e605d0-6a86-4b82-8a77-a21c288687ca",
   "metadata": {},
   "outputs": [],
   "source": [
    "def create_samples(dataset, sep_token):\n",
    "    train_samples = [\n",
    "        (\n",
    "            train_sample[\"text\"], train_sample[\"label\"], \n",
    "        )\n",
    "        for train_sample in dataset[\"train\"]\n",
    "    ]\n",
    "    \n",
    "    dev_samples = [\n",
    "        (\n",
    "            dev_sample[\"text\"], dev_sample[\"label\"]\n",
    "        )\n",
    "        for dev_sample in dataset[\"validation\"]\n",
    "    ]\n",
    "\n",
    "    return train_samples, dev_samples\n",
    "\n",
    "\n",
    "def preprocess(data, sep_token=sep_token):\n",
    "    out = data.lower()\n",
    "    out = out.replace(\"\\n\", \" \").replace(\"\\r\", \"\").replace(\"\\t\", \" \")\n",
    "    out = re.sub(r\"([.,!?;:'\\\"\\(\\)\\{\\}])\", r\" \\1 \", out)\n",
    "    out = re.sub(r\"\\s{2,}\", \" \", out)\n",
    "    out = out.replace(\"_\", \"\")\n",
    "    return out"
   ]
  },
  {
   "cell_type": "code",
   "execution_count": 147,
   "id": "a40f3cdd-f488-4c9d-a663-6b7e4339993d",
   "metadata": {},
   "outputs": [],
   "source": [
    "train_samples, dev_samples = create_samples(dataset, sep_token)"
   ]
  },
  {
   "cell_type": "code",
   "execution_count": 148,
   "id": "f6689c67-ce38-4cfe-b732-8b990b1823ea",
   "metadata": {},
   "outputs": [],
   "source": [
    "train_samples = list(map(lambda x: (preprocess(x[0]), x[1]), train_samples))\n",
    "dev_samples = list(map(lambda x: (preprocess(x[0]), x[1]), dev_samples))"
   ]
  },
  {
   "cell_type": "markdown",
   "id": "9825fce4-aa55-4627-a10e-e467ba089c48",
   "metadata": {},
   "source": [
    "## Tokenization"
   ]
  },
  {
   "cell_type": "code",
   "execution_count": 150,
   "id": "cea35fa0-4f1f-452a-94a8-40a29139f83e",
   "metadata": {},
   "outputs": [],
   "source": [
    "class WordTokenizer:\n",
    "    def __init__(self):\n",
    "        self.start_token = \"[START]\"\n",
    "        self.end_token = \"[END]\"\n",
    "        self.unk_token = \"[UNK]\"\n",
    "        self.pad_token = \"[PAD]\"\n",
    "        \n",
    "        self.vocab = defaultdict(count().__next__)\n",
    "        self.freq = defaultdict(int)\n",
    "\n",
    "        self.__init_special_tokens__()\n",
    "\n",
    "    def __init_special_tokens__(self):\n",
    "        self.vocab[self.start_token]\n",
    "        self.vocab[self.end_token]\n",
    "        self.vocab[self.pad_token]\n",
    "        self.vocab[self.unk_token]\n",
    "\n",
    "    def insert_token(self, token):\n",
    "        if token not in self.vocab:\n",
    "            self.vocab[token]\n",
    "\n",
    "    def train(self, samples: List[str]):\n",
    "\n",
    "        for sample in tqdm(samples):\n",
    "            sample_splitted = sample.split()\n",
    "            for token in sample_splitted:\n",
    "                self.insert_token(token)\n",
    "            \n",
    "        self.vocab_size = len(self.vocab)\n",
    "        self.i2w = {v: k for k, v in self.vocab.items()}\n",
    "\n",
    "    def encode(\n",
    "        self, \n",
    "        input_text: Union[str, List],\n",
    "        max_length: Optional[int] = None,\n",
    "        preprocessing_function: Callable = lambda x: x,\n",
    "        exclude_end_token: bool = False\n",
    "    ) -> Union[List[int], List[List[int]]]:\n",
    "        input_ids = []\n",
    "        \n",
    "        if type(input_text) == str:\n",
    "            input_text = preprocessing_function(input_text)\n",
    "            input_text_splitted = input_text.split()\n",
    "\n",
    "            input_ids.append(self.vocab.get(self.start_token))\n",
    "            for token in input_text_splitted:\n",
    "                input_ids.append(self.vocab.get(token, self.vocab.get(self.unk_token)))\n",
    "                if max_length is not None and max_length - 1 == len(input_ids):\n",
    "                    break\n",
    "\n",
    "            if not exclude_end_token:\n",
    "                input_ids.append(self.vocab.get(self.end_token))\n",
    "\n",
    "            if max_length is not None and len(input_ids) < max_length:\n",
    "                input_ids.extend(\n",
    "                    [self.vocab.get(self.pad_token) for _ in range(len(input_ids), max_length)]\n",
    "                )\n",
    "\n",
    "        else:\n",
    "            input_text = list(map(lambda x: preprocessing_function(x), input_text))\n",
    "            for each_input_text in input_text:\n",
    "                each_input_ids = []\n",
    "                each_input_text_splitted = each_input_text.split()\n",
    "                for token in each_input_text_splitted:\n",
    "                    each_input_ids.append(self.vocab.get(token, self.vocab.get(self.unk_token)))\n",
    "                    if max_length is not None and max_length - 1 == len(each_input_ids):\n",
    "                        break\n",
    "\n",
    "                    if not exclude_end_token:\n",
    "                        each_input_ids.append(self.vocab.get(self.end_token))\n",
    "                        \n",
    "                    if max_length is not None and len(each_input_ids) < max_length:\n",
    "                        each_input_ids.extend(\n",
    "                            [self.vocab.get(self.pad_token) for _ in range(len(each_input_ids), max_length)]\n",
    "                        )\n",
    "                input_ids.append(each_input_ids)\n",
    "\n",
    "        return input_ids\n",
    "\n",
    "    def decode(\n",
    "        self, input_ids: Union[List[int], List[List[int]]]\n",
    "    ) -> Union[str, List[str]]:\n",
    "        decoded_string = []\n",
    "        \n",
    "        if type(input_ids) == list and type(input_ids[0]) == int:\n",
    "            for id in input_ids:\n",
    "                decoded_string.append(self.i2w.get(id))\n",
    "\n",
    "        else:\n",
    "            for each_input_id in input_ids:\n",
    "                decoded_string_each = []\n",
    "                for id in each_input_id:\n",
    "                    decoded_string_each.append(self.i2w.get(id))\n",
    "                decoded_string_each.append(decoded_string_each)\n",
    "\n",
    "        return decoded_string\n",
    "\n",
    "    def save(self, output_file=\"model/word.tokenizer\"):\n",
    "        with open(output_file, 'wb') as f:\n",
    "            pickle.dump(self, f)\n",
    "\n",
    "    @staticmethod\n",
    "    def load(output_file=\"model/word.tokenizer\"):\n",
    "        with open(output_file, \"rb\") as f:\n",
    "            tokenizer = pickle.load(f)\n",
    "        return tokenizer"
   ]
  },
  {
   "cell_type": "code",
   "execution_count": 154,
   "id": "daba1faa-8ad1-4682-9b45-9f74c294c88f",
   "metadata": {},
   "outputs": [
    {
     "data": {
      "application/vnd.jupyter.widget-view+json": {
       "model_id": "f5d5014761884094b95792ed90493633",
       "version_major": 2,
       "version_minor": 0
      },
      "text/plain": [
       "  0%|          | 0/16000 [00:00<?, ?it/s]"
      ]
     },
     "metadata": {},
     "output_type": "display_data"
    }
   ],
   "source": [
    "train_samples_to_be_tokenized = [train_sample[0] for train_sample in train_samples]\n",
    "tokenizer = WordTokenizer()\n",
    "tokenizer.train(train_samples_to_be_tokenized)"
   ]
  },
  {
   "cell_type": "code",
   "execution_count": 155,
   "id": "317ea477-7927-4fa8-a768-535d12392545",
   "metadata": {},
   "outputs": [],
   "source": [
    "tokenizer.save()"
   ]
  },
  {
   "cell_type": "code",
   "execution_count": 156,
   "id": "159362fc-a7b0-4371-a583-016053318031",
   "metadata": {},
   "outputs": [],
   "source": [
    "lengths = [len(tokenizer.encode(sample)) for sample in train_samples_to_be_tokenized]"
   ]
  },
  {
   "cell_type": "code",
   "execution_count": 157,
   "id": "40ae97d5-a148-4374-a2de-59429eadf2d0",
   "metadata": {},
   "outputs": [
    {
     "data": {
      "image/png": "[encoded data removed]",
      "text/plain": [
       "<Figure size 500x500 with 1 Axes>"
      ]
     },
     "metadata": {},
     "output_type": "display_data"
    }
   ],
   "source": [
    "sns.displot(lengths)\n",
    "plt.title(\"Sequence Length Distribution\", fontsize=16)\n",
    "plt.ylabel(\"Sequence Length\")\n",
    "plt.xticks(rotation=45)\n",
    "plt.show()"
   ]
  },
  {
   "cell_type": "code",
   "execution_count": 158,
   "id": "439c855f-4fcb-48c0-8253-282f03bcdb6f",
   "metadata": {},
   "outputs": [],
   "source": [
    "max_length = 64"
   ]
  },
  {
   "cell_type": "markdown",
   "id": "782d2164-192f-44ba-a03c-e7bb7bb782c1",
   "metadata": {},
   "source": [
    "## DataLoaders"
   ]
  },
  {
   "cell_type": "code",
   "execution_count": 159,
   "id": "24dab3b7-2bd8-41a5-8f72-3b0d6f558a0b",
   "metadata": {},
   "outputs": [],
   "source": [
    "class SentenceSampler(Dataset):\n",
    "    def __init__(\n",
    "        self, tokenizer: WordTokenizer, samples: List[str], max_length: int\n",
    "    ) -> None:\n",
    "        self.tokenizer = tokenizer\n",
    "        self.samples = samples\n",
    "        self.max_length = max_length\n",
    "\n",
    "    def __len__(self) -> int:\n",
    "        return len(self.samples)\n",
    "\n",
    "    def __getitem__(self, idx) -> Dict[str, torch.Tensor]:\n",
    "        sentence = self.samples[idx][0]\n",
    "        target = self.samples[idx][1]\n",
    "        input_ids = self.tokenizer.encode(sentence, self.max_length)\n",
    "        \n",
    "        return {\n",
    "            \"input_ids\": torch.LongTensor(input_ids),\n",
    "            \"target\": torch.Tensor([target])\n",
    "        }"
   ]
  },
  {
   "cell_type": "code",
   "execution_count": 162,
   "id": "c2589cce-891b-488f-9515-37c426f53b01",
   "metadata": {},
   "outputs": [],
   "source": [
    "train_dataset = SentenceSampler(tokenizer, train_samples, max_length=128)\n",
    "train_dataloader = DataLoader(train_dataset, batch_size=128, shuffle=True)\n",
    "\n",
    "dev_dataset = SentenceSampler(tokenizer, dev_samples, max_length=128)\n",
    "dev_dataloader = DataLoader(dev_dataset, batch_size=64, shuffle=False)"
   ]
  },
  {
   "cell_type": "code",
   "execution_count": 173,
   "id": "c69890c7-db1c-4f80-b119-ac18a3e1d8ee",
   "metadata": {},
   "outputs": [
    {
     "name": "stdout",
     "output_type": "stream",
     "text": [
      "['[START]', 'i', 'feel', 'that', 'many', 'people', 'need', 'to', 'worry', 'about', 'their', 'own', 'families', 'their', 'own', 'children', 'and', 'their', 'own', 'self', 'because', 'time', 'is', 'precious', '[END]', '[PAD]', '[PAD]', '[PAD]', '[PAD]', '[PAD]', '[PAD]', '[PAD]', '[PAD]', '[PAD]', '[PAD]', '[PAD]', '[PAD]', '[PAD]', '[PAD]', '[PAD]', '[PAD]', '[PAD]', '[PAD]', '[PAD]', '[PAD]', '[PAD]', '[PAD]', '[PAD]', '[PAD]', '[PAD]', '[PAD]', '[PAD]', '[PAD]', '[PAD]', '[PAD]', '[PAD]', '[PAD]', '[PAD]', '[PAD]', '[PAD]', '[PAD]', '[PAD]', '[PAD]', '[PAD]', '[PAD]', '[PAD]', '[PAD]', '[PAD]', '[PAD]', '[PAD]', '[PAD]', '[PAD]', '[PAD]', '[PAD]', '[PAD]', '[PAD]', '[PAD]', '[PAD]', '[PAD]', '[PAD]', '[PAD]', '[PAD]', '[PAD]', '[PAD]', '[PAD]', '[PAD]', '[PAD]', '[PAD]', '[PAD]', '[PAD]', '[PAD]', '[PAD]', '[PAD]', '[PAD]', '[PAD]', '[PAD]', '[PAD]', '[PAD]', '[PAD]', '[PAD]', '[PAD]', '[PAD]', '[PAD]', '[PAD]', '[PAD]', '[PAD]', '[PAD]', '[PAD]', '[PAD]', '[PAD]', '[PAD]', '[PAD]', '[PAD]', '[PAD]', '[PAD]', '[PAD]', '[PAD]', '[PAD]', '[PAD]', '[PAD]', '[PAD]', '[PAD]', '[PAD]', '[PAD]', '[PAD]', '[PAD]', '[PAD]', '[PAD]']\n",
      "[1.0]\n"
     ]
    }
   ],
   "source": [
    "def test():\n",
    "    for batch in train_dataloader:\n",
    "        print(tokenizer.decode(batch[\"input_ids\"][0].tolist()))\n",
    "        print(batch[\"target\"][0].tolist())\n",
    "        break\n",
    "\n",
    "test()"
   ]
  },
  {
   "cell_type": "markdown",
   "id": "55e7d325-73d8-452c-be6b-e6fb7b6c0b25",
   "metadata": {},
   "source": [
    "## Modeling"
   ]
  },
  {
   "cell_type": "code",
   "execution_count": 174,
   "id": "0a2a01b4-f03f-48a1-8d63-a7a7729a4539",
   "metadata": {},
   "outputs": [],
   "source": [
    "class RNNClassifier(nn.Module):\n",
    "    def __init__(\n",
    "        self, n_classes: int, vocab_size: int, num_layers, embedding_size: int, \n",
    "        embedding_dropout_rate: float, hidden_size: int, bidirectional\n",
    "    ) -> None:\n",
    "        super(RNNClassifier, self).__init__()\n",
    "        self.embedding = nn.Embedding(vocab_size, embedding_size)\n",
    "        self.embedding_dropout = nn.Dropout(embedding_dropout_rate)\n",
    "\n",
    "        self.lstm = nn.LSTM(\n",
    "            input_size=embedding_size,\n",
    "            hidden_size=hidden_size,\n",
    "            bidirectional=bidirectional,\n",
    "            num_layers=num_layers,\n",
    "            batch_first=True\n",
    "        )\n",
    "\n",
    "        self.classifier = nn.Linear(\n",
    "            in_features=hidden_size*2 if bidirectional else hidden_size,\n",
    "            out_features=n_classes\n",
    "        )\n",
    "\n",
    "        self.gelu = nn.GELU()\n",
    "\n",
    "    def forward(self, token_ids):\n",
    "        # token_ids: [B, max_seq_len]\n",
    "        out = self.embedding_dropout(self.embedding(token_ids))\n",
    "        # out: [B, max_seq_len, embed_dim]\n",
    "        out, (hidden, cell) = self.lstm(out)\n",
    "        # out: [B, max_seq_len, hidden_size]\n",
    "        hidden, cell = None, None\n",
    "        out = out[:, 0, :]\n",
    "        # out: [B, hidden_size]\n",
    "        out = self.gelu(out)\n",
    "        return self.classifier(out)\n",
    "        # return: [B, max_seq_len, vocab_size]"
   ]
  },
  {
   "cell_type": "markdown",
   "id": "9d7fd558-30a7-40a8-a92d-fab52d73beaa",
   "metadata": {},
   "source": [
    "## Training"
   ]
  },
  {
   "cell_type": "code",
   "execution_count": 177,
   "id": "0205bd76-8c5e-406b-a0f5-d4e01ad18d20",
   "metadata": {},
   "outputs": [
    {
     "name": "stdout",
     "output_type": "stream",
     "text": [
      "[550, 178, 275, 704, 212, 81]\n",
      "[0.725, 0.911, 0.8625, 0.648, 0.894, 0.9595]\n"
     ]
    }
   ],
   "source": [
    "target_counts = list(Counter([sample[1] for sample in dev_samples]).values())\n",
    "class_weights = [1-(target_count)/sum(target_counts) for target_count in target_counts]\n",
    "print(target_counts)\n",
    "print(class_weights)\n",
    "criterion = nn.CrossEntropyLoss(weight=torch.Tensor(class_weights).to(\"mps\"))"
   ]
  },
  {
   "cell_type": "code",
   "execution_count": 190,
   "id": "7ffb6d31-65f2-4469-a507-825879e20ee7",
   "metadata": {},
   "outputs": [],
   "source": [
    "class TrainerWrapper:\n",
    "    def __init__(\n",
    "            self, model: RNNClassifier, device: torch.device,\n",
    "            norm_threshold: Optional[float] = None\n",
    "    ):\n",
    "        self.model = model\n",
    "        self.device = device\n",
    "        self.model = self.model.to(self.device)\n",
    "\n",
    "        self.optimizer = torch.optim.Adam(self.model.parameters(), lr=0.001)\n",
    "        self.scheduler = None#torch.optim.lr_scheduler.StepLR(self.optimizer, step_size = 10, gamma = 0.1)\n",
    "        self.norm_threshold = norm_threshold\n",
    "\n",
    "    def train(self, train_dataloader, dev_dataloader, epochs, tokenizer, criterion):\n",
    "        total = len(train_dataloader) * epochs\n",
    "\n",
    "        with tqdm(total=total, desc=\"Training Round\") as training:\n",
    "            for epoch in range(epochs):\n",
    "                train_loss = 0\n",
    "                batch_count = 0\n",
    "\n",
    "                train_preds = []\n",
    "                train_ground_truths = []\n",
    "                for step, batch in enumerate(train_dataloader):\n",
    "                    self.model.train()\n",
    "\n",
    "                    input_ids = batch[\"input_ids\"].to(self.device)\n",
    "                    targets = batch[\"target\"].to(self.device).squeeze(1)\n",
    "\n",
    "                    out = self.model(input_ids.long())\n",
    "                    loss = criterion(out, targets.long())\n",
    "\n",
    "                    loss.backward()\n",
    "                    clip_grad_norm(model.parameters(), 0.7)\n",
    "\n",
    "                    self.optimizer.step()\n",
    "\n",
    "                    train_loss += loss.item()\n",
    "                    batch_count += 1\n",
    "\n",
    "                    preds = (\n",
    "                        out.softmax(dim=-1)\n",
    "                            .argmax(dim=-1)\n",
    "                            .flatten()\n",
    "                            .detach()\n",
    "                            .cpu()\n",
    "                            .tolist()\n",
    "                    )\n",
    "                    ground_truth = targets.detach().cpu().tolist()\n",
    "                    train_preds.extend(preds)\n",
    "                    train_ground_truths.extend(ground_truth)\n",
    "\n",
    "                    training.update()\n",
    "\n",
    "                dev_loss, dev_accuracy, dev_f1 = self.evaluate(\n",
    "                    dev_dataloader=dev_dataloader,\n",
    "                    tokenizer=tokenizer,\n",
    "                    criterion=criterion\n",
    "                )\n",
    "\n",
    "                train_accuracy = accuracy_score(train_ground_truths, train_preds)\n",
    "                train_f1 = f1_score(train_ground_truths, train_preds, average=\"macro\")\n",
    "\n",
    "                print(35*\"*\")\n",
    "                print(f\"Epoch {epoch+1}/{epochs}\")\n",
    "                print(f\"  - Train Loss: {train_loss/batch_count}\")\n",
    "                print(f\"  - Train Accuracy: {train_accuracy}\")\n",
    "                print(f\"  - Train F1: {train_f1}\")\n",
    "                print(f\"  - Eval Loss: {dev_loss}\")\n",
    "                print(f\"  - Eval Accuracy: {dev_accuracy}\")\n",
    "                print(f\"  - Eval F1: {dev_f1}\")\n",
    "                if self.scheduler is not None:\n",
    "                    self.scheduler.step()\n",
    "\n",
    "    @torch.no_grad()\n",
    "    def evaluate(self, dev_dataloader, tokenizer, criterion):\n",
    "        self.model = self.model.to(self.device)\n",
    "        total = len(dev_dataloader)\n",
    "\n",
    "        dev_loss = 0\n",
    "        batch_count = 0\n",
    "\n",
    "        dev_preds = []\n",
    "        dev_ground_truths = []\n",
    "\n",
    "        with tqdm(total=total, desc=\"Evaluation Round\") as evaluation:\n",
    "            for step, batch in enumerate(dev_dataloader):\n",
    "                self.model.eval()\n",
    "                input_ids = batch[\"input_ids\"].to(self.device)\n",
    "                targets = batch[\"target\"].to(self.device).squeeze(1)\n",
    "\n",
    "                out = self.model(input_ids.long())\n",
    "                loss = criterion(out, targets.long())\n",
    "\n",
    "                dev_loss += loss.item()\n",
    "                batch_count += 1\n",
    "\n",
    "                preds = (\n",
    "                    out.softmax(dim=-1)\n",
    "                        .argmax(dim=-1)\n",
    "                        .flatten()\n",
    "                        .detach()\n",
    "                        .cpu()\n",
    "                        .tolist()\n",
    "                )\n",
    "                ground_truth = targets.detach().cpu().tolist()\n",
    "                dev_preds.extend(preds)\n",
    "                dev_ground_truths.extend(ground_truth)\n",
    "                \n",
    "                evaluation.update()\n",
    "\n",
    "        dev_accuracy = accuracy_score(dev_ground_truths, dev_preds)\n",
    "        dev_f1 = f1_score(dev_ground_truths, dev_preds, average=\"macro\")\n",
    "\n",
    "        return dev_loss/batch_count, dev_accuracy, dev_f1"
   ]
  },
  {
   "cell_type": "code",
   "execution_count": 191,
   "id": "65128abb-8f27-4b2d-8fc3-264872da9a36",
   "metadata": {},
   "outputs": [],
   "source": [
    "model = RNNClassifier(len(LABEL_ENCODER), tokenizer.vocab_size, 1, 256, 0.1, 512, True)"
   ]
  },
  {
   "cell_type": "code",
   "execution_count": 192,
   "id": "67eb1cb6-a702-4f36-a280-f69fd51eb484",
   "metadata": {},
   "outputs": [],
   "source": [
    "trainer = TrainerWrapper(model, torch.device(\"mps\"))"
   ]
  },
  {
   "cell_type": "code",
   "execution_count": 193,
   "id": "5f7d5a37-f1c8-4299-bcb1-7cef163519e1",
   "metadata": {},
   "outputs": [
    {
     "data": {
      "application/vnd.jupyter.widget-view+json": {
       "model_id": "81cc2d07b0a6482db023026319655781",
       "version_major": 2,
       "version_minor": 0
      },
      "text/plain": [
       "Training Round:   0%|          | 0/2500 [00:00<?, ?it/s]"
      ]
     },
     "metadata": {},
     "output_type": "display_data"
    },
    {
     "name": "stderr",
     "output_type": "stream",
     "text": [
      "/var/folders/ff/qwx_ck9x7_d4myl47cwxy3lh0000gp/T/ipykernel_19523/2678279276.py:34: UserWarning: torch.nn.utils.clip_grad_norm is now deprecated in favor of torch.nn.utils.clip_grad_norm_.\n",
      "  clip_grad_norm(model.parameters(), 0.7)\n"
     ]
    },
    {
     "data": {
      "application/vnd.jupyter.widget-view+json": {
       "model_id": "fc6d6d088ae1429bb3a30206ae956d59",
       "version_major": 2,
       "version_minor": 0
      },
      "text/plain": [
       "Evaluation Round:   0%|          | 0/32 [00:00<?, ?it/s]"
      ]
     },
     "metadata": {},
     "output_type": "display_data"
    },
    {
     "name": "stdout",
     "output_type": "stream",
     "text": [
      "***********************************\n",
      "Epoch 1/20\n",
      "  - Train Loss: 1.5899772481918335\n",
      "  - Train Accuracy: 0.325375\n",
      "  - Train F1: 0.11560126198517655\n",
      "  - Eval Loss: 1.5694315284490585\n",
      "  - Eval Accuracy: 0.352\n",
      "  - Eval F1: 0.08678500986193294\n"
     ]
    },
    {
     "name": "stderr",
     "output_type": "stream",
     "text": [
      "/var/folders/ff/qwx_ck9x7_d4myl47cwxy3lh0000gp/T/ipykernel_19523/2678279276.py:34: UserWarning: torch.nn.utils.clip_grad_norm is now deprecated in favor of torch.nn.utils.clip_grad_norm_.\n",
      "  clip_grad_norm(model.parameters(), 0.7)\n"
     ]
    },
    {
     "data": {
      "application/vnd.jupyter.widget-view+json": {
       "model_id": "9b91a4adcc724def8a02e6ce3433ad2c",
       "version_major": 2,
       "version_minor": 0
      },
      "text/plain": [
       "Evaluation Round:   0%|          | 0/32 [00:00<?, ?it/s]"
      ]
     },
     "metadata": {},
     "output_type": "display_data"
    },
    {
     "name": "stdout",
     "output_type": "stream",
     "text": [
      "***********************************\n",
      "Epoch 2/20\n",
      "  - Train Loss: 1.389262927055359\n",
      "  - Train Accuracy: 0.4573125\n",
      "  - Train F1: 0.2226519099876154\n",
      "  - Eval Loss: 1.0087203197181225\n",
      "  - Eval Accuracy: 0.621\n",
      "  - Eval F1: 0.33665547819680525\n"
     ]
    },
    {
     "name": "stderr",
     "output_type": "stream",
     "text": [
      "/var/folders/ff/qwx_ck9x7_d4myl47cwxy3lh0000gp/T/ipykernel_19523/2678279276.py:34: UserWarning: torch.nn.utils.clip_grad_norm is now deprecated in favor of torch.nn.utils.clip_grad_norm_.\n",
      "  clip_grad_norm(model.parameters(), 0.7)\n"
     ]
    },
    {
     "data": {
      "application/vnd.jupyter.widget-view+json": {
       "model_id": "0c8c9d788874440188425f88c5509b4e",
       "version_major": 2,
       "version_minor": 0
      },
      "text/plain": [
       "Evaluation Round:   0%|          | 0/32 [00:00<?, ?it/s]"
      ]
     },
     "metadata": {},
     "output_type": "display_data"
    },
    {
     "name": "stdout",
     "output_type": "stream",
     "text": [
      "***********************************\n",
      "Epoch 3/20\n",
      "  - Train Loss: 0.6818731825351715\n",
      "  - Train Accuracy: 0.7473125\n",
      "  - Train F1: 0.5719747582177498\n",
      "  - Eval Loss: 0.41943609435111284\n",
      "  - Eval Accuracy: 0.8705\n",
      "  - Eval F1: 0.8435152754202221\n"
     ]
    },
    {
     "name": "stderr",
     "output_type": "stream",
     "text": [
      "/var/folders/ff/qwx_ck9x7_d4myl47cwxy3lh0000gp/T/ipykernel_19523/2678279276.py:34: UserWarning: torch.nn.utils.clip_grad_norm is now deprecated in favor of torch.nn.utils.clip_grad_norm_.\n",
      "  clip_grad_norm(model.parameters(), 0.7)\n"
     ]
    },
    {
     "data": {
      "application/vnd.jupyter.widget-view+json": {
       "model_id": "c551700237b44833a8772d918b88c992",
       "version_major": 2,
       "version_minor": 0
      },
      "text/plain": [
       "Evaluation Round:   0%|          | 0/32 [00:00<?, ?it/s]"
      ]
     },
     "metadata": {},
     "output_type": "display_data"
    },
    {
     "name": "stdout",
     "output_type": "stream",
     "text": [
      "***********************************\n",
      "Epoch 4/20\n",
      "  - Train Loss: 0.2591484742164612\n",
      "  - Train Accuracy: 0.906125\n",
      "  - Train F1: 0.8643242177389805\n",
      "  - Eval Loss: 0.29057270009070635\n",
      "  - Eval Accuracy: 0.8955\n",
      "  - Eval F1: 0.8575144931089298\n"
     ]
    },
    {
     "name": "stderr",
     "output_type": "stream",
     "text": [
      "/var/folders/ff/qwx_ck9x7_d4myl47cwxy3lh0000gp/T/ipykernel_19523/2678279276.py:34: UserWarning: torch.nn.utils.clip_grad_norm is now deprecated in favor of torch.nn.utils.clip_grad_norm_.\n",
      "  clip_grad_norm(model.parameters(), 0.7)\n"
     ]
    },
    {
     "data": {
      "application/vnd.jupyter.widget-view+json": {
       "model_id": "df6b510779584071af22c879aa63c00a",
       "version_major": 2,
       "version_minor": 0
      },
      "text/plain": [
       "Evaluation Round:   0%|          | 0/32 [00:00<?, ?it/s]"
      ]
     },
     "metadata": {},
     "output_type": "display_data"
    },
    {
     "name": "stdout",
     "output_type": "stream",
     "text": [
      "***********************************\n",
      "Epoch 5/20\n",
      "  - Train Loss: 0.1583885848671198\n",
      "  - Train Accuracy: 0.93825\n",
      "  - Train F1: 0.9131346630644223\n",
      "  - Eval Loss: 0.2606452158652246\n",
      "  - Eval Accuracy: 0.905\n",
      "  - Eval F1: 0.8756620026542213\n"
     ]
    },
    {
     "name": "stderr",
     "output_type": "stream",
     "text": [
      "/var/folders/ff/qwx_ck9x7_d4myl47cwxy3lh0000gp/T/ipykernel_19523/2678279276.py:34: UserWarning: torch.nn.utils.clip_grad_norm is now deprecated in favor of torch.nn.utils.clip_grad_norm_.\n",
      "  clip_grad_norm(model.parameters(), 0.7)\n"
     ]
    },
    {
     "ename": "KeyboardInterrupt",
     "evalue": "",
     "output_type": "error",
     "traceback": [
      "\u001b[0;31m---------------------------------------------------------------------------\u001b[0m",
      "\u001b[0;31mKeyboardInterrupt\u001b[0m                         Traceback (most recent call last)",
      "Cell \u001b[0;32mIn[193], line 1\u001b[0m\n\u001b[0;32m----> 1\u001b[0m \u001b[43mtrainer\u001b[49m\u001b[38;5;241;43m.\u001b[39;49m\u001b[43mtrain\u001b[49m\u001b[43m(\u001b[49m\u001b[43mtrain_dataloader\u001b[49m\u001b[43m,\u001b[49m\u001b[43m \u001b[49m\u001b[43mdev_dataloader\u001b[49m\u001b[43m,\u001b[49m\u001b[43m \u001b[49m\u001b[38;5;241;43m20\u001b[39;49m\u001b[43m,\u001b[49m\u001b[43m \u001b[49m\u001b[43mtokenizer\u001b[49m\u001b[43m,\u001b[49m\u001b[43m \u001b[49m\u001b[43mcriterion\u001b[49m\u001b[43m)\u001b[49m\n",
      "Cell \u001b[0;32mIn[190], line 38\u001b[0m, in \u001b[0;36mTrainerWrapper.train\u001b[0;34m(self, train_dataloader, dev_dataloader, epochs, tokenizer, criterion)\u001b[0m\n\u001b[1;32m     34\u001b[0m clip_grad_norm(model\u001b[38;5;241m.\u001b[39mparameters(), \u001b[38;5;241m0.7\u001b[39m)\n\u001b[1;32m     36\u001b[0m \u001b[38;5;28mself\u001b[39m\u001b[38;5;241m.\u001b[39moptimizer\u001b[38;5;241m.\u001b[39mstep()\n\u001b[0;32m---> 38\u001b[0m train_loss \u001b[38;5;241m+\u001b[39m\u001b[38;5;241m=\u001b[39m \u001b[43mloss\u001b[49m\u001b[38;5;241;43m.\u001b[39;49m\u001b[43mitem\u001b[49m\u001b[43m(\u001b[49m\u001b[43m)\u001b[49m\n\u001b[1;32m     39\u001b[0m batch_count \u001b[38;5;241m+\u001b[39m\u001b[38;5;241m=\u001b[39m \u001b[38;5;241m1\u001b[39m\n\u001b[1;32m     41\u001b[0m preds \u001b[38;5;241m=\u001b[39m (\n\u001b[1;32m     42\u001b[0m     out\u001b[38;5;241m.\u001b[39msoftmax(dim\u001b[38;5;241m=\u001b[39m\u001b[38;5;241m-\u001b[39m\u001b[38;5;241m1\u001b[39m)\n\u001b[1;32m     43\u001b[0m         \u001b[38;5;241m.\u001b[39margmax(dim\u001b[38;5;241m=\u001b[39m\u001b[38;5;241m-\u001b[39m\u001b[38;5;241m1\u001b[39m)\n\u001b[0;32m   (...)\u001b[0m\n\u001b[1;32m     47\u001b[0m         \u001b[38;5;241m.\u001b[39mtolist()\n\u001b[1;32m     48\u001b[0m )\n",
      "\u001b[0;31mKeyboardInterrupt\u001b[0m: "
     ]
    }
   ],
   "source": [
    "trainer.train(train_dataloader, dev_dataloader, 20, tokenizer, criterion)"
   ]
  },
  {
   "cell_type": "code",
   "execution_count": 194,
   "id": "45f32c75-8675-473f-b941-8c9cbfddde1d",
   "metadata": {},
   "outputs": [],
   "source": [
    "torch.save(trainer.model.state_dict(), \"model/model_emotion.pt\")"
   ]
  },
  {
   "cell_type": "markdown",
   "id": "1bbe949b-10c6-4b3c-8e76-8fe20eb613f7",
   "metadata": {},
   "source": [
    "## Load and Play"
   ]
  },
  {
   "cell_type": "code",
   "execution_count": 201,
   "id": "d1a81d97-f953-48af-8d61-a1a3f394a0c4",
   "metadata": {},
   "outputs": [],
   "source": [
    "def inference(model, tokenizer, input_string):\n",
    "    input_ids = tokenizer.encode(input_string, None)\n",
    "    print(\" \".join(tokenizer.decode(input_ids)))\n",
    "    input_ids = torch.Tensor(input_ids)[None, ...]\n",
    "  \n",
    "    out = model(input_ids.long())\n",
    "    pred = out.softmax(dim=-1).argmax(dim=-1).flatten().item()\n",
    "    return pred, out[0].softmax(dim=-1)"
   ]
  },
  {
   "cell_type": "code",
   "execution_count": 196,
   "id": "d2b3c8c2-ddc1-41c2-8e8d-9f88d998b5b1",
   "metadata": {},
   "outputs": [],
   "source": [
    "model = RNNClassifier(len(LABEL_ENCODER), tokenizer.vocab_size, 1, 256, 0.1, 512, True)"
   ]
  },
  {
   "cell_type": "code",
   "execution_count": 197,
   "id": "744e114f-c31a-411c-8f70-a09529a496da",
   "metadata": {},
   "outputs": [
    {
     "data": {
      "text/plain": [
       "<All keys matched successfully>"
      ]
     },
     "execution_count": 197,
     "metadata": {},
     "output_type": "execute_result"
    }
   ],
   "source": [
    "model.load_state_dict(torch.load(\"model/model_emotion.pt\", weights_only=True))"
   ]
  },
  {
   "cell_type": "code",
   "execution_count": 198,
   "id": "d6369865-4092-4094-80f5-afcbd096bc99",
   "metadata": {},
   "outputs": [],
   "source": [
    "tokenizer = WordTokenizer.load()"
   ]
  },
  {
   "cell_type": "code",
   "execution_count": 204,
   "id": "eba1ab7a-7a6c-44e8-945c-5ff4766e1242",
   "metadata": {},
   "outputs": [
    {
     "name": "stdout",
     "output_type": "stream",
     "text": [
      "[START] i am pissed [END]\n",
      "anger\n"
     ]
    }
   ],
   "source": [
    "input_string = \"\"\"\n",
    "i am pissed\n",
    "\"\"\"\n",
    "\n",
    "emotion, probabilities = inference(\n",
    "    model, tokenizer,\n",
    "    input_string=input_string\n",
    ")\n",
    "print(LABEL_ENCODER[emotion])\n"
   ]
  }
 ],
 "metadata": {
  "kernelspec": {
   "display_name": "Python 3 (ipykernel)",
   "language": "python",
   "name": "python3"
  },
  "language_info": {
   "codemirror_mode": {
    "name": "ipython",
    "version": 3
   },
   "file_extension": ".py",
   "mimetype": "text/x-python",
   "name": "python",
   "nbconvert_exporter": "python",
   "pygments_lexer": "ipython3",
   "version": "3.11.0"
  }
 },
 "nbformat": 4,
 "nbformat_minor": 5
}
