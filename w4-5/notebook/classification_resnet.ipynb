{
 "cells": [
  {
   "cell_type": "code",
   "execution_count": 1,
   "metadata": {},
   "outputs": [
    {
     "name": "stderr",
     "output_type": "stream",
     "text": [
      "2024-09-28 09:37:14.104945: I tensorflow/core/util/port.cc:153] oneDNN custom operations are on. You may see slightly different numerical results due to floating-point round-off errors from different computation orders. To turn them off, set the environment variable `TF_ENABLE_ONEDNN_OPTS=0`.\n",
      "2024-09-28 09:37:14.112169: E external/local_xla/xla/stream_executor/cuda/cuda_fft.cc:485] Unable to register cuFFT factory: Attempting to register factory for plugin cuFFT when one has already been registered\n",
      "2024-09-28 09:37:14.120876: E external/local_xla/xla/stream_executor/cuda/cuda_dnn.cc:8454] Unable to register cuDNN factory: Attempting to register factory for plugin cuDNN when one has already been registered\n",
      "2024-09-28 09:37:14.123728: E external/local_xla/xla/stream_executor/cuda/cuda_blas.cc:1452] Unable to register cuBLAS factory: Attempting to register factory for plugin cuBLAS when one has already been registered\n",
      "2024-09-28 09:37:14.131101: I tensorflow/core/platform/cpu_feature_guard.cc:210] This TensorFlow binary is optimized to use available CPU instructions in performance-critical operations.\n",
      "To enable the following instructions: AVX2 AVX512F AVX512_VNNI AVX512_BF16 FMA, in other operations, rebuild TensorFlow with the appropriate compiler flags.\n",
      "2024-09-28 09:37:14.695496: W tensorflow/compiler/tf2tensorrt/utils/py_utils.cc:38] TF-TRT Warning: Could not find TensorRT\n"
     ]
    }
   ],
   "source": [
    "import matplotlib.pyplot as plt\n",
    "import numpy as np\n",
    "import torch\n",
    "import torch.nn as nn\n",
    "import torch.optim as optim\n",
    "from torchvision import datasets, transforms, models\n",
    "\n",
    "from utils import get_cifar_dataloaders, train, test\n",
    "\n",
    "# Device configuration\n",
    "device = torch.device('cuda' if torch.cuda.is_available() else 'cpu')\n",
    "\n",
    "EPOCH = 100\n",
    "LEARNING_RATE = 1e-3\n",
    "BATCH_SIZE = 64"
   ]
  },
  {
   "cell_type": "code",
   "execution_count": 2,
   "metadata": {},
   "outputs": [
    {
     "name": "stdout",
     "output_type": "stream",
     "text": [
      "Files already downloaded and verified\n",
      "Files already downloaded and verified\n"
     ]
    }
   ],
   "source": [
    "train_loader, validation_loader, test_loader = get_cifar_dataloaders(BATCH_SIZE)"
   ]
  },
  {
   "cell_type": "code",
   "execution_count": 3,
   "metadata": {},
   "outputs": [],
   "source": [
    "# Define the model architecture\n",
    "model = models.resnet50() # Load the pretrained model\n",
    "model.fc = nn.Linear(model.fc.in_features, 10) # Change the output layer to have 10 classes\n",
    "model.to(device) # Move the model to the device\n",
    "\n",
    "# Define the loss function and optimizer\n",
    "criterion = nn.CrossEntropyLoss()\n",
    "optimizer = optim.Adam(model.parameters(), lr=LEARNING_RATE)"
   ]
  },
  {
   "cell_type": "code",
   "execution_count": 4,
   "metadata": {},
   "outputs": [
    {
     "name": "stdout",
     "output_type": "stream",
     "text": [
      "Epoch 1/100\n",
      "\u001b[1m  6/704\u001b[0m \u001b[37m━━━━━━━━━━━━━━━━━━━━\u001b[0m \u001b[1m21s\u001b[0m 31ms/step - loss: 2.9399 - acc: 0.1063 - precision: 0.1063 - recall: 0.1063 - f1: 0.1063"
     ]
    },
    {
     "name": "stderr",
     "output_type": "stream",
     "text": [
      "WARNING: All log messages before absl::InitializeLog() is called are written to STDERR\n",
      "I0000 00:00:1727505436.484923  304097 cuda_executor.cc:1015] successful NUMA node read from SysFS had negative value (-1), but there must be at least one NUMA node, so returning NUMA node zero. See more at https://github.com/torvalds/linux/blob/v6.0/Documentation/ABI/testing/sysfs-bus-pci#L344-L355\n",
      "2024-09-28 09:37:16.488233: W tensorflow/core/common_runtime/gpu/gpu_device.cc:2343] Cannot dlopen some GPU libraries. Please make sure the missing libraries mentioned above are installed properly if you would like to use GPU. Follow the guide at https://www.tensorflow.org/install/gpu for how to download and setup the required libraries for your platform.\n",
      "Skipping registering GPU devices...\n"
     ]
    },
    {
     "name": "stdout",
     "output_type": "stream",
     "text": [
      "\u001b[1m704/704\u001b[0m \u001b[32m━━━━━━━━━━━━━━━━━━━━\u001b[0m\u001b[37m\u001b[0m \u001b[1m39s\u001b[0m 54ms/step - loss: 2.2099 - acc: 0.2631 - precision: 0.2631 - recall: 0.2631 - f1: 0.2631\n",
      "Validation 1/100\n",
      "\u001b[1m79/79\u001b[0m \u001b[32m━━━━━━━━━━━━━━━━━━━━\u001b[0m\u001b[37m\u001b[0m \u001b[1m3s\u001b[0m 32ms/step - val_loss: 1.7943 - val_acc: 0.3192 - val_precision: 0.3192 - val_recall: 0.3192 - val_f1: 0.3192\n",
      "Epoch 2/100\n",
      "\u001b[1m704/704\u001b[0m \u001b[32m━━━━━━━━━━━━━━━━━━━━\u001b[0m\u001b[37m\u001b[0m \u001b[1m42s\u001b[0m 59ms/step - loss: 1.8700 - acc: 0.3573 - precision: 0.3573 - recall: 0.3573 - f1: 0.3573\n",
      "Validation 2/100\n",
      "\u001b[1m79/79\u001b[0m \u001b[32m━━━━━━━━━━━━━━━━━━━━\u001b[0m\u001b[37m\u001b[0m \u001b[1m2s\u001b[0m 31ms/step - val_loss: 1.8757 - val_acc: 0.3783 - val_precision: 0.3783 - val_recall: 0.3783 - val_f1: 0.3783\n",
      "Epoch 3/100\n",
      "\u001b[1m704/704\u001b[0m \u001b[32m━━━━━━━━━━━━━━━━━━━━\u001b[0m\u001b[37m\u001b[0m \u001b[1m41s\u001b[0m 59ms/step - loss: 1.8660 - acc: 0.3464 - precision: 0.3464 - recall: 0.3464 - f1: 0.3464\n",
      "Validation 3/100\n",
      "\u001b[1m79/79\u001b[0m \u001b[32m━━━━━━━━━━━━━━━━━━━━\u001b[0m\u001b[37m\u001b[0m \u001b[1m3s\u001b[0m 32ms/step - val_loss: 4.1107 - val_acc: 0.3704 - val_precision: 0.3704 - val_recall: 0.3704 - val_f1: 0.3704\n",
      "Epoch 4/100\n",
      "\u001b[1m704/704\u001b[0m \u001b[32m━━━━━━━━━━━━━━━━━━━━\u001b[0m\u001b[37m\u001b[0m \u001b[1m42s\u001b[0m 59ms/step - loss: 1.9000 - acc: 0.3561 - precision: 0.3561 - recall: 0.3561 - f1: 0.3561\n",
      "Validation 4/100\n",
      "\u001b[1m79/79\u001b[0m \u001b[32m━━━━━━━━━━━━━━━━━━━━\u001b[0m\u001b[37m\u001b[0m \u001b[1m3s\u001b[0m 32ms/step - val_loss: 1.7285 - val_acc: 0.3581 - val_precision: 0.3581 - val_recall: 0.3581 - val_f1: 0.3581\n",
      "Epoch 5/100\n",
      "\u001b[1m704/704\u001b[0m \u001b[32m━━━━━━━━━━━━━━━━━━━━\u001b[0m\u001b[37m\u001b[0m \u001b[1m42s\u001b[0m 59ms/step - loss: 1.7638 - acc: 0.3887 - precision: 0.3887 - recall: 0.3887 - f1: 0.3887\n",
      "Validation 5/100\n",
      "\u001b[1m79/79\u001b[0m \u001b[32m━━━━━━━━━━━━━━━━━━━━\u001b[0m\u001b[37m\u001b[0m \u001b[1m3s\u001b[0m 32ms/step - val_loss: 1.8680 - val_acc: 0.3944 - val_precision: 0.3944 - val_recall: 0.3944 - val_f1: 0.3944\n",
      "Epoch 6/100\n",
      "\u001b[1m704/704\u001b[0m \u001b[32m━━━━━━━━━━━━━━━━━━━━\u001b[0m\u001b[37m\u001b[0m \u001b[1m41s\u001b[0m 58ms/step - loss: 1.6353 - acc: 0.4186 - precision: 0.4186 - recall: 0.4186 - f1: 0.4186\n",
      "Validation 6/100\n",
      "\u001b[1m79/79\u001b[0m \u001b[32m━━━━━━━━━━━━━━━━━━━━\u001b[0m\u001b[37m\u001b[0m \u001b[1m2s\u001b[0m 31ms/step - val_loss: 3.6479 - val_acc: 0.4330 - val_precision: 0.4330 - val_recall: 0.4330 - val_f1: 0.4330\n",
      "Epoch 7/100\n",
      "\u001b[1m704/704\u001b[0m \u001b[32m━━━━━━━━━━━━━━━━━━━━\u001b[0m\u001b[37m\u001b[0m \u001b[1m40s\u001b[0m 57ms/step - loss: 1.5445 - acc: 0.4503 - precision: 0.4503 - recall: 0.4503 - f1: 0.4503\n",
      "Validation 7/100\n",
      "\u001b[1m79/79\u001b[0m \u001b[32m━━━━━━━━━━━━━━━━━━━━\u001b[0m\u001b[37m\u001b[0m \u001b[1m3s\u001b[0m 32ms/step - val_loss: 1.6487 - val_acc: 0.4604 - val_precision: 0.4604 - val_recall: 0.4604 - val_f1: 0.4604\n",
      "Epoch 8/100\n",
      "\u001b[1m704/704\u001b[0m \u001b[32m━━━━━━━━━━━━━━━━━━━━\u001b[0m\u001b[37m\u001b[0m \u001b[1m40s\u001b[0m 57ms/step - loss: 1.4344 - acc: 0.4839 - precision: 0.4839 - recall: 0.4839 - f1: 0.4839\n",
      "Validation 8/100\n",
      "\u001b[1m79/79\u001b[0m \u001b[32m━━━━━━━━━━━━━━━━━━━━\u001b[0m\u001b[37m\u001b[0m \u001b[1m3s\u001b[0m 31ms/step - val_loss: 1.4143 - val_acc: 0.4861 - val_precision: 0.4861 - val_recall: 0.4861 - val_f1: 0.4861\n",
      "Epoch 9/100\n",
      "\u001b[1m704/704\u001b[0m \u001b[32m━━━━━━━━━━━━━━━━━━━━\u001b[0m\u001b[37m\u001b[0m \u001b[1m42s\u001b[0m 59ms/step - loss: 1.4010 - acc: 0.5008 - precision: 0.5008 - recall: 0.5008 - f1: 0.5008\n",
      "Validation 9/100\n",
      "\u001b[1m79/79\u001b[0m \u001b[32m━━━━━━━━━━━━━━━━━━━━\u001b[0m\u001b[37m\u001b[0m \u001b[1m2s\u001b[0m 30ms/step - val_loss: 1.8644 - val_acc: 0.5155 - val_precision: 0.5155 - val_recall: 0.5155 - val_f1: 0.5155\n",
      "Epoch 10/100\n",
      "\u001b[1m704/704\u001b[0m \u001b[32m━━━━━━━━━━━━━━━━━━━━\u001b[0m\u001b[37m\u001b[0m \u001b[1m41s\u001b[0m 58ms/step - loss: 1.6807 - acc: 0.4146 - precision: 0.4146 - recall: 0.4146 - f1: 0.4146\n",
      "Validation 10/100\n",
      "\u001b[1m79/79\u001b[0m \u001b[32m━━━━━━━━━━━━━━━━━━━━\u001b[0m\u001b[37m\u001b[0m \u001b[1m3s\u001b[0m 32ms/step - val_loss: 1.7713 - val_acc: 0.4405 - val_precision: 0.4405 - val_recall: 0.4405 - val_f1: 0.4405\n",
      "Epoch 11/100\n",
      "\u001b[1m704/704\u001b[0m \u001b[32m━━━━━━━━━━━━━━━━━━━━\u001b[0m\u001b[37m\u001b[0m \u001b[1m41s\u001b[0m 58ms/step - loss: 1.3515 - acc: 0.5143 - precision: 0.5143 - recall: 0.5143 - f1: 0.5143\n",
      "Validation 11/100\n",
      "\u001b[1m79/79\u001b[0m \u001b[32m━━━━━━━━━━━━━━━━━━━━\u001b[0m\u001b[37m\u001b[0m \u001b[1m3s\u001b[0m 32ms/step - val_loss: 1.2770 - val_acc: 0.5259 - val_precision: 0.5259 - val_recall: 0.5259 - val_f1: 0.5259\n",
      "Epoch 12/100\n",
      "\u001b[1m704/704\u001b[0m \u001b[32m━━━━━━━━━━━━━━━━━━━━\u001b[0m\u001b[37m\u001b[0m \u001b[1m41s\u001b[0m 58ms/step - loss: 1.3507 - acc: 0.5229 - precision: 0.5229 - recall: 0.5229 - f1: 0.5229\n",
      "Validation 12/100\n",
      "\u001b[1m79/79\u001b[0m \u001b[32m━━━━━━━━━━━━━━━━━━━━\u001b[0m\u001b[37m\u001b[0m \u001b[1m3s\u001b[0m 31ms/step - val_loss: 1.7978 - val_acc: 0.5299 - val_precision: 0.5299 - val_recall: 0.5299 - val_f1: 0.5299\n",
      "Epoch 13/100\n",
      "\u001b[1m704/704\u001b[0m \u001b[32m━━━━━━━━━━━━━━━━━━━━\u001b[0m\u001b[37m\u001b[0m \u001b[1m41s\u001b[0m 58ms/step - loss: 1.1888 - acc: 0.5780 - precision: 0.5780 - recall: 0.5780 - f1: 0.5780\n",
      "Validation 13/100\n",
      "\u001b[1m79/79\u001b[0m \u001b[32m━━━━━━━━━━━━━━━━━━━━\u001b[0m\u001b[37m\u001b[0m \u001b[1m3s\u001b[0m 32ms/step - val_loss: 1.4092 - val_acc: 0.5846 - val_precision: 0.5846 - val_recall: 0.5846 - val_f1: 0.5846\n",
      "Epoch 14/100\n",
      "\u001b[1m704/704\u001b[0m \u001b[32m━━━━━━━━━━━━━━━━━━━━\u001b[0m\u001b[37m\u001b[0m \u001b[1m41s\u001b[0m 58ms/step - loss: 1.1694 - acc: 0.5893 - precision: 0.5893 - recall: 0.5893 - f1: 0.5893\n",
      "Validation 14/100\n",
      "\u001b[1m79/79\u001b[0m \u001b[32m━━━━━━━━━━━━━━━━━━━━\u001b[0m\u001b[37m\u001b[0m \u001b[1m3s\u001b[0m 32ms/step - val_loss: 1.1353 - val_acc: 0.5992 - val_precision: 0.5992 - val_recall: 0.5992 - val_f1: 0.5992\n",
      "Epoch 15/100\n",
      "\u001b[1m704/704\u001b[0m \u001b[32m━━━━━━━━━━━━━━━━━━━━\u001b[0m\u001b[37m\u001b[0m \u001b[1m41s\u001b[0m 58ms/step - loss: 1.2051 - acc: 0.5785 - precision: 0.5785 - recall: 0.5785 - f1: 0.5785\n",
      "Validation 15/100\n",
      "\u001b[1m79/79\u001b[0m \u001b[32m━━━━━━━━━━━━━━━━━━━━\u001b[0m\u001b[37m\u001b[0m \u001b[1m3s\u001b[0m 32ms/step - val_loss: 1.1122 - val_acc: 0.5663 - val_precision: 0.5663 - val_recall: 0.5663 - val_f1: 0.5663\n",
      "Epoch 16/100\n",
      "\u001b[1m704/704\u001b[0m \u001b[32m━━━━━━━━━━━━━━━━━━━━\u001b[0m\u001b[37m\u001b[0m \u001b[1m41s\u001b[0m 58ms/step - loss: 1.0783 - acc: 0.6168 - precision: 0.6168 - recall: 0.6168 - f1: 0.6168\n",
      "Validation 16/100\n",
      "\u001b[1m79/79\u001b[0m \u001b[32m━━━━━━━━━━━━━━━━━━━━\u001b[0m\u001b[37m\u001b[0m \u001b[1m3s\u001b[0m 33ms/step - val_loss: 1.5192 - val_acc: 0.6135 - val_precision: 0.6135 - val_recall: 0.6135 - val_f1: 0.6135\n",
      "Epoch 17/100\n",
      "\u001b[1m704/704\u001b[0m \u001b[32m━━━━━━━━━━━━━━━━━━━━\u001b[0m\u001b[37m\u001b[0m \u001b[1m42s\u001b[0m 59ms/step - loss: 1.1164 - acc: 0.6075 - precision: 0.6075 - recall: 0.6075 - f1: 0.6075\n",
      "Validation 17/100\n",
      "\u001b[1m79/79\u001b[0m \u001b[32m━━━━━━━━━━━━━━━━━━━━\u001b[0m\u001b[37m\u001b[0m \u001b[1m3s\u001b[0m 32ms/step - val_loss: 1.0407 - val_acc: 0.6347 - val_precision: 0.6347 - val_recall: 0.6347 - val_f1: 0.6347\n",
      "Epoch 18/100\n",
      "\u001b[1m704/704\u001b[0m \u001b[32m━━━━━━━━━━━━━━━━━━━━\u001b[0m\u001b[37m\u001b[0m \u001b[1m41s\u001b[0m 59ms/step - loss: 0.9794 - acc: 0.6557 - precision: 0.6557 - recall: 0.6557 - f1: 0.6557\n",
      "Validation 18/100\n",
      "\u001b[1m79/79\u001b[0m \u001b[32m━━━━━━━━━━━━━━━━━━━━\u001b[0m\u001b[37m\u001b[0m \u001b[1m3s\u001b[0m 31ms/step - val_loss: 1.5126 - val_acc: 0.6490 - val_precision: 0.6490 - val_recall: 0.6490 - val_f1: 0.6490\n",
      "Epoch 19/100\n",
      "\u001b[1m704/704\u001b[0m \u001b[32m━━━━━━━━━━━━━━━━━━━━\u001b[0m\u001b[37m\u001b[0m \u001b[1m41s\u001b[0m 58ms/step - loss: 1.2092 - acc: 0.5720 - precision: 0.5720 - recall: 0.5720 - f1: 0.5720\n",
      "Validation 19/100\n",
      "\u001b[1m79/79\u001b[0m \u001b[32m━━━━━━━━━━━━━━━━━━━━\u001b[0m\u001b[37m\u001b[0m \u001b[1m3s\u001b[0m 32ms/step - val_loss: 0.9808 - val_acc: 0.6207 - val_precision: 0.6207 - val_recall: 0.6207 - val_f1: 0.6207\n",
      "Epoch 20/100\n",
      "\u001b[1m704/704\u001b[0m \u001b[32m━━━━━━━━━━━━━━━━━━━━\u001b[0m\u001b[37m\u001b[0m \u001b[1m41s\u001b[0m 58ms/step - loss: 0.9413 - acc: 0.6722 - precision: 0.6722 - recall: 0.6722 - f1: 0.6722\n",
      "Validation 20/100\n",
      "\u001b[1m79/79\u001b[0m \u001b[32m━━━━━━━━━━━━━━━━━━━━\u001b[0m\u001b[37m\u001b[0m \u001b[1m2s\u001b[0m 30ms/step - val_loss: 0.9317 - val_acc: 0.6798 - val_precision: 0.6798 - val_recall: 0.6798 - val_f1: 0.6798\n",
      "Epoch 21/100\n",
      "\u001b[1m704/704\u001b[0m \u001b[32m━━━━━━━━━━━━━━━━━━━━\u001b[0m\u001b[37m\u001b[0m \u001b[1m41s\u001b[0m 58ms/step - loss: 0.9115 - acc: 0.6809 - precision: 0.6809 - recall: 0.6809 - f1: 0.6809\n",
      "Validation 21/100\n",
      "\u001b[1m79/79\u001b[0m \u001b[32m━━━━━━━━━━━━━━━━━━━━\u001b[0m\u001b[37m\u001b[0m \u001b[1m3s\u001b[0m 33ms/step - val_loss: 0.8575 - val_acc: 0.6793 - val_precision: 0.6793 - val_recall: 0.6793 - val_f1: 0.6793\n",
      "Epoch 22/100\n",
      "\u001b[1m704/704\u001b[0m \u001b[32m━━━━━━━━━━━━━━━━━━━━\u001b[0m\u001b[37m\u001b[0m \u001b[1m41s\u001b[0m 58ms/step - loss: 0.8635 - acc: 0.7012 - precision: 0.7012 - recall: 0.7012 - f1: 0.7012\n",
      "Validation 22/100\n",
      "\u001b[1m79/79\u001b[0m \u001b[32m━━━━━━━━━━━━━━━━━━━━\u001b[0m\u001b[37m\u001b[0m \u001b[1m2s\u001b[0m 31ms/step - val_loss: 0.9583 - val_acc: 0.7050 - val_precision: 0.7050 - val_recall: 0.7050 - val_f1: 0.7050\n",
      "Epoch 23/100\n",
      "\u001b[1m704/704\u001b[0m \u001b[32m━━━━━━━━━━━━━━━━━━━━\u001b[0m\u001b[37m\u001b[0m \u001b[1m41s\u001b[0m 58ms/step - loss: 0.8522 - acc: 0.7011 - precision: 0.7011 - recall: 0.7011 - f1: 0.7011\n",
      "Validation 23/100\n",
      "\u001b[1m79/79\u001b[0m \u001b[32m━━━━━━━━━━━━━━━━━━━━\u001b[0m\u001b[37m\u001b[0m \u001b[1m3s\u001b[0m 32ms/step - val_loss: 1.1986 - val_acc: 0.6999 - val_precision: 0.6999 - val_recall: 0.6999 - val_f1: 0.6999\n",
      "Epoch 24/100\n",
      "\u001b[1m704/704\u001b[0m \u001b[32m━━━━━━━━━━━━━━━━━━━━\u001b[0m\u001b[37m\u001b[0m \u001b[1m41s\u001b[0m 59ms/step - loss: 1.0553 - acc: 0.6328 - precision: 0.6328 - recall: 0.6328 - f1: 0.6328\n",
      "Validation 24/100\n",
      "\u001b[1m79/79\u001b[0m \u001b[32m━━━━━━━━━━━━━━━━━━━━\u001b[0m\u001b[37m\u001b[0m \u001b[1m3s\u001b[0m 32ms/step - val_loss: 0.8582 - val_acc: 0.6718 - val_precision: 0.6718 - val_recall: 0.6718 - val_f1: 0.6718\n",
      "Epoch 25/100\n",
      "\u001b[1m704/704\u001b[0m \u001b[32m━━━━━━━━━━━━━━━━━━━━\u001b[0m\u001b[37m\u001b[0m \u001b[1m39s\u001b[0m 55ms/step - loss: 0.8204 - acc: 0.7088 - precision: 0.7088 - recall: 0.7088 - f1: 0.7088\n",
      "Validation 25/100\n",
      "\u001b[1m79/79\u001b[0m \u001b[32m━━━━━━━━━━━━━━━━━━━━\u001b[0m\u001b[37m\u001b[0m \u001b[1m2s\u001b[0m 28ms/step - val_loss: 0.8145 - val_acc: 0.7160 - val_precision: 0.7160 - val_recall: 0.7160 - val_f1: 0.7160\n",
      "Epoch 26/100\n",
      "\u001b[1m704/704\u001b[0m \u001b[32m━━━━━━━━━━━━━━━━━━━━\u001b[0m\u001b[37m\u001b[0m \u001b[1m37s\u001b[0m 53ms/step - loss: 0.7782 - acc: 0.7307 - precision: 0.7307 - recall: 0.7307 - f1: 0.7307\n",
      "Validation 26/100\n",
      "\u001b[1m79/79\u001b[0m \u001b[32m━━━━━━━━━━━━━━━━━━━━\u001b[0m\u001b[37m\u001b[0m \u001b[1m2s\u001b[0m 28ms/step - val_loss: 1.3099 - val_acc: 0.7170 - val_precision: 0.7170 - val_recall: 0.7170 - val_f1: 0.7170\n",
      "Epoch 27/100\n",
      "\u001b[1m704/704\u001b[0m \u001b[32m━━━━━━━━━━━━━━━━━━━━\u001b[0m\u001b[37m\u001b[0m \u001b[1m37s\u001b[0m 53ms/step - loss: 0.8687 - acc: 0.6971 - precision: 0.6971 - recall: 0.6971 - f1: 0.6971\n",
      "Validation 27/100\n",
      "\u001b[1m79/79\u001b[0m \u001b[32m━━━━━━━━━━━━━━━━━━━━\u001b[0m\u001b[37m\u001b[0m \u001b[1m2s\u001b[0m 28ms/step - val_loss: 0.9871 - val_acc: 0.7127 - val_precision: 0.7127 - val_recall: 0.7127 - val_f1: 0.7127\n",
      "Epoch 28/100\n",
      "\u001b[1m704/704\u001b[0m \u001b[32m━━━━━━━━━━━━━━━━━━━━\u001b[0m\u001b[37m\u001b[0m \u001b[1m37s\u001b[0m 53ms/step - loss: 0.7710 - acc: 0.7345 - precision: 0.7345 - recall: 0.7345 - f1: 0.7345\n",
      "Validation 28/100\n",
      "\u001b[1m79/79\u001b[0m \u001b[32m━━━━━━━━━━━━━━━━━━━━\u001b[0m\u001b[37m\u001b[0m \u001b[1m2s\u001b[0m 30ms/step - val_loss: 0.8270 - val_acc: 0.7402 - val_precision: 0.7402 - val_recall: 0.7402 - val_f1: 0.7402\n",
      "Epoch 29/100\n",
      "\u001b[1m704/704\u001b[0m \u001b[32m━━━━━━━━━━━━━━━━━━━━\u001b[0m\u001b[37m\u001b[0m \u001b[1m38s\u001b[0m 53ms/step - loss: 0.7611 - acc: 0.7363 - precision: 0.7363 - recall: 0.7363 - f1: 0.7363\n",
      "Validation 29/100\n",
      "\u001b[1m79/79\u001b[0m \u001b[32m━━━━━━━━━━━━━━━━━━━━\u001b[0m\u001b[37m\u001b[0m \u001b[1m2s\u001b[0m 30ms/step - val_loss: 0.7852 - val_acc: 0.7412 - val_precision: 0.7412 - val_recall: 0.7412 - val_f1: 0.7412\n",
      "Epoch 30/100\n",
      "\u001b[1m704/704\u001b[0m \u001b[32m━━━━━━━━━━━━━━━━━━━━\u001b[0m\u001b[37m\u001b[0m \u001b[1m38s\u001b[0m 54ms/step - loss: 0.7103 - acc: 0.7511 - precision: 0.7511 - recall: 0.7511 - f1: 0.7511\n",
      "Validation 30/100\n",
      "\u001b[1m79/79\u001b[0m \u001b[32m━━━━━━━━━━━━━━━━━━━━\u001b[0m\u001b[37m\u001b[0m \u001b[1m2s\u001b[0m 28ms/step - val_loss: 0.8302 - val_acc: 0.7567 - val_precision: 0.7567 - val_recall: 0.7567 - val_f1: 0.7567\n",
      "Epoch 31/100\n",
      "\u001b[1m704/704\u001b[0m \u001b[32m━━━━━━━━━━━━━━━━━━━━\u001b[0m\u001b[37m\u001b[0m \u001b[1m38s\u001b[0m 54ms/step - loss: 0.6799 - acc: 0.7617 - precision: 0.7617 - recall: 0.7617 - f1: 0.7617\n",
      "Validation 31/100\n",
      "\u001b[1m79/79\u001b[0m \u001b[32m━━━━━━━━━━━━━━━━━━━━\u001b[0m\u001b[37m\u001b[0m \u001b[1m2s\u001b[0m 29ms/step - val_loss: 1.3790 - val_acc: 0.7599 - val_precision: 0.7599 - val_recall: 0.7599 - val_f1: 0.7599\n",
      "Epoch 32/100\n",
      "\u001b[1m704/704\u001b[0m \u001b[32m━━━━━━━━━━━━━━━━━━━━\u001b[0m\u001b[37m\u001b[0m \u001b[1m38s\u001b[0m 54ms/step - loss: 0.8169 - acc: 0.7221 - precision: 0.7221 - recall: 0.7221 - f1: 0.7221\n",
      "Validation 32/100\n",
      "\u001b[1m79/79\u001b[0m \u001b[32m━━━━━━━━━━━━━━━━━━━━\u001b[0m\u001b[37m\u001b[0m \u001b[1m2s\u001b[0m 29ms/step - val_loss: 1.0006 - val_acc: 0.7373 - val_precision: 0.7373 - val_recall: 0.7373 - val_f1: 0.7373\n",
      "Epoch 33/100\n",
      "\u001b[1m704/704\u001b[0m \u001b[32m━━━━━━━━━━━━━━━━━━━━\u001b[0m\u001b[37m\u001b[0m \u001b[1m38s\u001b[0m 53ms/step - loss: 0.7063 - acc: 0.7569 - precision: 0.7569 - recall: 0.7569 - f1: 0.7569\n",
      "Validation 33/100\n",
      "\u001b[1m79/79\u001b[0m \u001b[32m━━━━━━━━━━━━━━━━━━━━\u001b[0m\u001b[37m\u001b[0m \u001b[1m2s\u001b[0m 29ms/step - val_loss: 0.7663 - val_acc: 0.7620 - val_precision: 0.7620 - val_recall: 0.7620 - val_f1: 0.7620\n",
      "Epoch 34/100\n",
      "\u001b[1m704/704\u001b[0m \u001b[32m━━━━━━━━━━━━━━━━━━━━\u001b[0m\u001b[37m\u001b[0m \u001b[1m38s\u001b[0m 53ms/step - loss: 0.6233 - acc: 0.7831 - precision: 0.7831 - recall: 0.7831 - f1: 0.7831\n",
      "Validation 34/100\n",
      "\u001b[1m79/79\u001b[0m \u001b[32m━━━━━━━━━━━━━━━━━━━━\u001b[0m\u001b[37m\u001b[0m \u001b[1m2s\u001b[0m 29ms/step - val_loss: 0.7222 - val_acc: 0.7770 - val_precision: 0.7770 - val_recall: 0.7770 - val_f1: 0.7770\n",
      "Epoch 35/100\n",
      "\u001b[1m704/704\u001b[0m \u001b[32m━━━━━━━━━━━━━━━━━━━━\u001b[0m\u001b[37m\u001b[0m \u001b[1m38s\u001b[0m 53ms/step - loss: 0.6198 - acc: 0.7854 - precision: 0.7854 - recall: 0.7854 - f1: 0.7854\n",
      "Validation 35/100\n",
      "\u001b[1m79/79\u001b[0m \u001b[32m━━━━━━━━━━━━━━━━━━━━\u001b[0m\u001b[37m\u001b[0m \u001b[1m2s\u001b[0m 29ms/step - val_loss: 0.7560 - val_acc: 0.7826 - val_precision: 0.7826 - val_recall: 0.7826 - val_f1: 0.7826\n",
      "Epoch 36/100\n",
      "\u001b[1m704/704\u001b[0m \u001b[32m━━━━━━━━━━━━━━━━━━━━\u001b[0m\u001b[37m\u001b[0m \u001b[1m38s\u001b[0m 53ms/step - loss: 0.6087 - acc: 0.7899 - precision: 0.7899 - recall: 0.7899 - f1: 0.7899\n",
      "Validation 36/100\n",
      "\u001b[1m79/79\u001b[0m \u001b[32m━━━━━━━━━━━━━━━━━━━━\u001b[0m\u001b[37m\u001b[0m \u001b[1m2s\u001b[0m 29ms/step - val_loss: 0.8564 - val_acc: 0.7763 - val_precision: 0.7763 - val_recall: 0.7763 - val_f1: 0.7763\n",
      "Epoch 37/100\n",
      "\u001b[1m704/704\u001b[0m \u001b[32m━━━━━━━━━━━━━━━━━━━━\u001b[0m\u001b[37m\u001b[0m \u001b[1m38s\u001b[0m 54ms/step - loss: 0.6770 - acc: 0.7646 - precision: 0.7646 - recall: 0.7646 - f1: 0.7646\n",
      "Validation 37/100\n",
      "\u001b[1m79/79\u001b[0m \u001b[32m━━━━━━━━━━━━━━━━━━━━\u001b[0m\u001b[37m\u001b[0m \u001b[1m2s\u001b[0m 29ms/step - val_loss: 0.7182 - val_acc: 0.7798 - val_precision: 0.7798 - val_recall: 0.7798 - val_f1: 0.7798\n",
      "Epoch 38/100\n",
      "\u001b[1m704/704\u001b[0m \u001b[32m━━━━━━━━━━━━━━━━━━━━\u001b[0m\u001b[37m\u001b[0m \u001b[1m38s\u001b[0m 54ms/step - loss: 0.6350 - acc: 0.7794 - precision: 0.7794 - recall: 0.7794 - f1: 0.7794\n",
      "Validation 38/100\n",
      "\u001b[1m79/79\u001b[0m \u001b[32m━━━━━━━━━━━━━━━━━━━━\u001b[0m\u001b[37m\u001b[0m \u001b[1m2s\u001b[0m 29ms/step - val_loss: 0.7319 - val_acc: 0.7795 - val_precision: 0.7795 - val_recall: 0.7795 - val_f1: 0.7795\n",
      "Epoch 39/100\n",
      "\u001b[1m704/704\u001b[0m \u001b[32m━━━━━━━━━━━━━━━━━━━━\u001b[0m\u001b[37m\u001b[0m \u001b[1m38s\u001b[0m 54ms/step - loss: 0.5836 - acc: 0.7983 - precision: 0.7983 - recall: 0.7983 - f1: 0.7983\n",
      "Validation 39/100\n",
      "\u001b[1m79/79\u001b[0m \u001b[32m━━━━━━━━━━━━━━━━━━━━\u001b[0m\u001b[37m\u001b[0m \u001b[1m2s\u001b[0m 29ms/step - val_loss: 0.7546 - val_acc: 0.7982 - val_precision: 0.7982 - val_recall: 0.7982 - val_f1: 0.7982\n",
      "Epoch 40/100\n",
      "\u001b[1m704/704\u001b[0m \u001b[32m━━━━━━━━━━━━━━━━━━━━\u001b[0m\u001b[37m\u001b[0m \u001b[1m38s\u001b[0m 54ms/step - loss: 0.5711 - acc: 0.7994 - precision: 0.7994 - recall: 0.7994 - f1: 0.7994\n",
      "Validation 40/100\n",
      "\u001b[1m79/79\u001b[0m \u001b[32m━━━━━━━━━━━━━━━━━━━━\u001b[0m\u001b[37m\u001b[0m \u001b[1m2s\u001b[0m 29ms/step - val_loss: 0.7145 - val_acc: 0.8013 - val_precision: 0.8013 - val_recall: 0.8013 - val_f1: 0.8013\n",
      "Epoch 41/100\n",
      "\u001b[1m704/704\u001b[0m \u001b[32m━━━━━━━━━━━━━━━━━━━━\u001b[0m\u001b[37m\u001b[0m \u001b[1m38s\u001b[0m 54ms/step - loss: 0.5517 - acc: 0.8104 - precision: 0.8104 - recall: 0.8104 - f1: 0.8104\n",
      "Validation 41/100\n",
      "\u001b[1m79/79\u001b[0m \u001b[32m━━━━━━━━━━━━━━━━━━━━\u001b[0m\u001b[37m\u001b[0m \u001b[1m2s\u001b[0m 29ms/step - val_loss: 0.7050 - val_acc: 0.8045 - val_precision: 0.8045 - val_recall: 0.8045 - val_f1: 0.8045\n",
      "Epoch 42/100\n",
      "\u001b[1m704/704\u001b[0m \u001b[32m━━━━━━━━━━━━━━━━━━━━\u001b[0m\u001b[37m\u001b[0m \u001b[1m38s\u001b[0m 54ms/step - loss: 0.5581 - acc: 0.8052 - precision: 0.8052 - recall: 0.8052 - f1: 0.8052\n",
      "Validation 42/100\n",
      "\u001b[1m79/79\u001b[0m \u001b[32m━━━━━━━━━━━━━━━━━━━━\u001b[0m\u001b[37m\u001b[0m \u001b[1m2s\u001b[0m 29ms/step - val_loss: 1.1243 - val_acc: 0.8050 - val_precision: 0.8050 - val_recall: 0.8050 - val_f1: 0.8050\n",
      "Epoch 43/100\n",
      "\u001b[1m704/704\u001b[0m \u001b[32m━━━━━━━━━━━━━━━━━━━━\u001b[0m\u001b[37m\u001b[0m \u001b[1m38s\u001b[0m 53ms/step - loss: 0.5947 - acc: 0.7918 - precision: 0.7918 - recall: 0.7918 - f1: 0.7918\n",
      "Validation 43/100\n",
      "\u001b[1m79/79\u001b[0m \u001b[32m━━━━━━━━━━━━━━━━━━━━\u001b[0m\u001b[37m\u001b[0m \u001b[1m2s\u001b[0m 28ms/step - val_loss: 0.7412 - val_acc: 0.8007 - val_precision: 0.8007 - val_recall: 0.8007 - val_f1: 0.8007\n",
      "Epoch 44/100\n",
      "\u001b[1m704/704\u001b[0m \u001b[32m━━━━━━━━━━━━━━━━━━━━\u001b[0m\u001b[37m\u001b[0m \u001b[1m38s\u001b[0m 54ms/step - loss: 0.5171 - acc: 0.8192 - precision: 0.8192 - recall: 0.8192 - f1: 0.8192\n",
      "Validation 44/100\n",
      "\u001b[1m79/79\u001b[0m \u001b[32m━━━━━━━━━━━━━━━━━━━━\u001b[0m\u001b[37m\u001b[0m \u001b[1m2s\u001b[0m 29ms/step - val_loss: 0.7177 - val_acc: 0.8164 - val_precision: 0.8164 - val_recall: 0.8164 - val_f1: 0.8164\n",
      "Epoch 45/100\n",
      "\u001b[1m704/704\u001b[0m \u001b[32m━━━━━━━━━━━━━━━━━━━━\u001b[0m\u001b[37m\u001b[0m \u001b[1m38s\u001b[0m 54ms/step - loss: 0.5428 - acc: 0.8135 - precision: 0.8135 - recall: 0.8135 - f1: 0.8135\n",
      "Validation 45/100\n",
      "\u001b[1m79/79\u001b[0m \u001b[32m━━━━━━━━━━━━━━━━━━━━\u001b[0m\u001b[37m\u001b[0m \u001b[1m2s\u001b[0m 29ms/step - val_loss: 0.6746 - val_acc: 0.8166 - val_precision: 0.8166 - val_recall: 0.8166 - val_f1: 0.8166\n",
      "Epoch 46/100\n",
      "\u001b[1m704/704\u001b[0m \u001b[32m━━━━━━━━━━━━━━━━━━━━\u001b[0m\u001b[37m\u001b[0m \u001b[1m38s\u001b[0m 54ms/step - loss: 0.4999 - acc: 0.8255 - precision: 0.8255 - recall: 0.8255 - f1: 0.8255\n",
      "Validation 46/100\n",
      "\u001b[1m79/79\u001b[0m \u001b[32m━━━━━━━━━━━━━━━━━━━━\u001b[0m\u001b[37m\u001b[0m \u001b[1m2s\u001b[0m 29ms/step - val_loss: 0.6571 - val_acc: 0.8250 - val_precision: 0.8250 - val_recall: 0.8250 - val_f1: 0.8250\n",
      "Epoch 47/100\n",
      "\u001b[1m704/704\u001b[0m \u001b[32m━━━━━━━━━━━━━━━━━━━━\u001b[0m\u001b[37m\u001b[0m \u001b[1m38s\u001b[0m 54ms/step - loss: 0.4852 - acc: 0.8299 - precision: 0.8299 - recall: 0.8299 - f1: 0.8299\n",
      "Validation 47/100\n",
      "\u001b[1m79/79\u001b[0m \u001b[32m━━━━━━━━━━━━━━━━━━━━\u001b[0m\u001b[37m\u001b[0m \u001b[1m2s\u001b[0m 29ms/step - val_loss: 0.6964 - val_acc: 0.8284 - val_precision: 0.8284 - val_recall: 0.8284 - val_f1: 0.8284\n",
      "Epoch 48/100\n",
      "\u001b[1m704/704\u001b[0m \u001b[32m━━━━━━━━━━━━━━━━━━━━\u001b[0m\u001b[37m\u001b[0m \u001b[1m37s\u001b[0m 53ms/step - loss: 0.4854 - acc: 0.8284 - precision: 0.8284 - recall: 0.8284 - f1: 0.8284\n",
      "Validation 48/100\n",
      "\u001b[1m79/79\u001b[0m \u001b[32m━━━━━━━━━━━━━━━━━━━━\u001b[0m\u001b[37m\u001b[0m \u001b[1m2s\u001b[0m 29ms/step - val_loss: 0.6330 - val_acc: 0.8260 - val_precision: 0.8260 - val_recall: 0.8260 - val_f1: 0.8260\n",
      "Epoch 49/100\n",
      "\u001b[1m704/704\u001b[0m \u001b[32m━━━━━━━━━━━━━━━━━━━━\u001b[0m\u001b[37m\u001b[0m \u001b[1m38s\u001b[0m 54ms/step - loss: 0.4775 - acc: 0.8304 - precision: 0.8304 - recall: 0.8304 - f1: 0.8304\n",
      "Validation 49/100\n",
      "\u001b[1m79/79\u001b[0m \u001b[32m━━━━━━━━━━━━━━━━━━━━\u001b[0m\u001b[37m\u001b[0m \u001b[1m2s\u001b[0m 28ms/step - val_loss: 0.7339 - val_acc: 0.8308 - val_precision: 0.8308 - val_recall: 0.8308 - val_f1: 0.8308\n",
      "Epoch 50/100\n",
      "\u001b[1m704/704\u001b[0m \u001b[32m━━━━━━━━━━━━━━━━━━━━\u001b[0m\u001b[37m\u001b[0m \u001b[1m38s\u001b[0m 54ms/step - loss: 0.4776 - acc: 0.8334 - precision: 0.8334 - recall: 0.8334 - f1: 0.8334\n",
      "Validation 50/100\n",
      "\u001b[1m79/79\u001b[0m \u001b[32m━━━━━━━━━━━━━━━━━━━━\u001b[0m\u001b[37m\u001b[0m \u001b[1m2s\u001b[0m 29ms/step - val_loss: 0.7006 - val_acc: 0.8321 - val_precision: 0.8321 - val_recall: 0.8321 - val_f1: 0.8321\n",
      "Epoch 51/100\n",
      "\u001b[1m704/704\u001b[0m \u001b[32m━━━━━━━━━━━━━━━━━━━━\u001b[0m\u001b[37m\u001b[0m \u001b[1m38s\u001b[0m 54ms/step - loss: 0.4827 - acc: 0.8310 - precision: 0.8310 - recall: 0.8310 - f1: 0.8310\n",
      "Validation 51/100\n",
      "\u001b[1m79/79\u001b[0m \u001b[32m━━━━━━━━━━━━━━━━━━━━\u001b[0m\u001b[37m\u001b[0m \u001b[1m2s\u001b[0m 29ms/step - val_loss: 0.6291 - val_acc: 0.8288 - val_precision: 0.8288 - val_recall: 0.8288 - val_f1: 0.8288\n",
      "Epoch 52/100\n",
      "\u001b[1m704/704\u001b[0m \u001b[32m━━━━━━━━━━━━━━━━━━━━\u001b[0m\u001b[37m\u001b[0m \u001b[1m38s\u001b[0m 54ms/step - loss: 0.4528 - acc: 0.8403 - precision: 0.8403 - recall: 0.8403 - f1: 0.8403\n",
      "Validation 52/100\n",
      "\u001b[1m79/79\u001b[0m \u001b[32m━━━━━━━━━━━━━━━━━━━━\u001b[0m\u001b[37m\u001b[0m \u001b[1m2s\u001b[0m 29ms/step - val_loss: 0.6430 - val_acc: 0.8366 - val_precision: 0.8366 - val_recall: 0.8366 - val_f1: 0.8366\n",
      "Epoch 53/100\n",
      "\u001b[1m704/704\u001b[0m \u001b[32m━━━━━━━━━━━━━━━━━━━━\u001b[0m\u001b[37m\u001b[0m \u001b[1m37s\u001b[0m 53ms/step - loss: 0.4336 - acc: 0.8487 - precision: 0.8487 - recall: 0.8487 - f1: 0.8487\n",
      "Validation 53/100\n",
      "\u001b[1m79/79\u001b[0m \u001b[32m━━━━━━━━━━━━━━━━━━━━\u001b[0m\u001b[37m\u001b[0m \u001b[1m2s\u001b[0m 28ms/step - val_loss: 0.6721 - val_acc: 0.8476 - val_precision: 0.8476 - val_recall: 0.8476 - val_f1: 0.8476\n",
      "Epoch 54/100\n",
      "\u001b[1m704/704\u001b[0m \u001b[32m━━━━━━━━━━━━━━━━━━━━\u001b[0m\u001b[37m\u001b[0m \u001b[1m38s\u001b[0m 54ms/step - loss: 0.4440 - acc: 0.8459 - precision: 0.8459 - recall: 0.8459 - f1: 0.8459\n",
      "Validation 54/100\n",
      "\u001b[1m79/79\u001b[0m \u001b[32m━━━━━━━━━━━━━━━━━━━━\u001b[0m\u001b[37m\u001b[0m \u001b[1m2s\u001b[0m 29ms/step - val_loss: 0.8339 - val_acc: 0.8465 - val_precision: 0.8465 - val_recall: 0.8465 - val_f1: 0.8465\n",
      "Epoch 55/100\n",
      "\u001b[1m704/704\u001b[0m \u001b[32m━━━━━━━━━━━━━━━━━━━━\u001b[0m\u001b[37m\u001b[0m \u001b[1m38s\u001b[0m 54ms/step - loss: 0.4235 - acc: 0.8474 - precision: 0.8474 - recall: 0.8474 - f1: 0.8474\n",
      "Validation 55/100\n",
      "\u001b[1m79/79\u001b[0m \u001b[32m━━━━━━━━━━━━━━━━━━━━\u001b[0m\u001b[37m\u001b[0m \u001b[1m2s\u001b[0m 29ms/step - val_loss: 0.6209 - val_acc: 0.8473 - val_precision: 0.8473 - val_recall: 0.8473 - val_f1: 0.8473\n",
      "Epoch 56/100\n",
      "\u001b[1m704/704\u001b[0m \u001b[32m━━━━━━━━━━━━━━━━━━━━\u001b[0m\u001b[37m\u001b[0m \u001b[1m38s\u001b[0m 54ms/step - loss: 0.4120 - acc: 0.8562 - precision: 0.8562 - recall: 0.8562 - f1: 0.8562\n",
      "Validation 56/100\n",
      "\u001b[1m79/79\u001b[0m \u001b[32m━━━━━━━━━━━━━━━━━━━━\u001b[0m\u001b[37m\u001b[0m \u001b[1m2s\u001b[0m 29ms/step - val_loss: 0.6692 - val_acc: 0.8516 - val_precision: 0.8516 - val_recall: 0.8516 - val_f1: 0.8516\n",
      "Training stopped.\n"
     ]
    }
   ],
   "source": [
    "model, history = train(train_loader, model, criterion, optimizer, EPOCH, validation_loader=validation_loader)"
   ]
  },
  {
   "cell_type": "code",
   "execution_count": 5,
   "metadata": {},
   "outputs": [
    {
     "name": "stdout",
     "output_type": "stream",
     "text": [
      "Test\n",
      "\u001b[1m157/157\u001b[0m \u001b[32m━━━━━━━━━━━━━━━━━━━━\u001b[0m\u001b[37m\u001b[0m \u001b[1m4s\u001b[0m 26ms/step - loss: 0.5527 - acc: 0.8220 - precision: 0.8220 - recall: 0.8220 - f1: 0.8220\n"
     ]
    }
   ],
   "source": [
    "preds, ys, metrics = test(test_loader, model, criterion)"
   ]
  },
  {
   "cell_type": "code",
   "execution_count": 6,
   "metadata": {},
   "outputs": [
    {
     "data": {
      "text/plain": [
       "[<matplotlib.lines.Line2D at 0x716e0dfc6410>]"
      ]
     },
     "execution_count": 6,
     "metadata": {},
     "output_type": "execute_result"
    },
    {
     "data": {
      "image/png": "[encoded data removed]",
      "text/plain": [
       "<Figure size 640x480 with 1 Axes>"
      ]
     },
     "metadata": {},
     "output_type": "display_data"
    }
   ],
   "source": [
    "plt.plot(range(len(history[\"val_acc\"])), history[\"val_acc\"])"
   ]
  },
  {
   "cell_type": "code",
   "execution_count": 8,
   "metadata": {},
   "outputs": [
    {
     "data": {
      "text/plain": [
       "tensor(0.8516)"
      ]
     },
     "execution_count": 8,
     "metadata": {},
     "output_type": "execute_result"
    }
   ],
   "source": [
    "max(history[\"val_acc\"])"
   ]
  },
  {
   "cell_type": "code",
   "execution_count": null,
   "metadata": {},
   "outputs": [],
   "source": []
  }
 ],
 "metadata": {
  "kernelspec": {
   "display_name": "dlsg-cnn-aqO6POrr-py3.11",
   "language": "python",
   "name": "python3"
  },
  "language_info": {
   "codemirror_mode": {
    "name": "ipython",
    "version": 3
   },
   "file_extension": ".py",
   "mimetype": "text/x-python",
   "name": "python",
   "nbconvert_exporter": "python",
   "pygments_lexer": "ipython3",
   "version": "3.11.5"
  }
 },
 "nbformat": 4,
 "nbformat_minor": 2
}
