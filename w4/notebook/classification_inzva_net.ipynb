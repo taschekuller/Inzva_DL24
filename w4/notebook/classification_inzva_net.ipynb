{
 "cells": [
  {
   "cell_type": "code",
   "execution_count": 3,
   "metadata": {},
   "outputs": [
    {
     "ename": "AttributeError",
     "evalue": "partially initialized module 'torchvision' has no attribute 'extension' (most likely due to a circular import)",
     "output_type": "error",
     "traceback": [
      "\u001b[0;31m---------------------------------------------------------------------------\u001b[0m",
      "\u001b[0;31mAttributeError\u001b[0m                            Traceback (most recent call last)",
      "Cell \u001b[0;32mIn[3], line 6\u001b[0m\n\u001b[1;32m      4\u001b[0m \u001b[38;5;28;01mimport\u001b[39;00m \u001b[38;5;21;01mtorch\u001b[39;00m\u001b[38;5;21;01m.\u001b[39;00m\u001b[38;5;21;01mnn\u001b[39;00m \u001b[38;5;28;01mas\u001b[39;00m \u001b[38;5;21;01mnn\u001b[39;00m\n\u001b[1;32m      5\u001b[0m \u001b[38;5;28;01mimport\u001b[39;00m \u001b[38;5;21;01mtorch\u001b[39;00m\u001b[38;5;21;01m.\u001b[39;00m\u001b[38;5;21;01moptim\u001b[39;00m \u001b[38;5;28;01mas\u001b[39;00m \u001b[38;5;21;01moptim\u001b[39;00m\n\u001b[0;32m----> 6\u001b[0m \u001b[38;5;28;01mfrom\u001b[39;00m \u001b[38;5;21;01mtorchvision\u001b[39;00m \u001b[38;5;28;01mimport\u001b[39;00m datasets, transforms\n\u001b[1;32m      8\u001b[0m \u001b[38;5;28;01mfrom\u001b[39;00m \u001b[38;5;21;01mutils\u001b[39;00m \u001b[38;5;28;01mimport\u001b[39;00m get_cifar_dataloaders, train, test\n\u001b[1;32m     10\u001b[0m \u001b[38;5;66;03m# Device configuration\u001b[39;00m\n",
      "File \u001b[0;32m~/miniforge3/envs/test_env/lib/python3.12/site-packages/torchvision/__init__.py:6\u001b[0m\n\u001b[1;32m      3\u001b[0m \u001b[38;5;28;01mfrom\u001b[39;00m \u001b[38;5;21;01mmodulefinder\u001b[39;00m \u001b[38;5;28;01mimport\u001b[39;00m Module\n\u001b[1;32m      5\u001b[0m \u001b[38;5;28;01mimport\u001b[39;00m \u001b[38;5;21;01mtorch\u001b[39;00m\n\u001b[0;32m----> 6\u001b[0m \u001b[38;5;28;01mfrom\u001b[39;00m \u001b[38;5;21;01mtorchvision\u001b[39;00m \u001b[38;5;28;01mimport\u001b[39;00m _meta_registrations, datasets, io, models, ops, transforms, utils\n\u001b[1;32m      8\u001b[0m \u001b[38;5;28;01mfrom\u001b[39;00m \u001b[38;5;21;01m.\u001b[39;00m\u001b[38;5;21;01mextension\u001b[39;00m \u001b[38;5;28;01mimport\u001b[39;00m _HAS_OPS\n\u001b[1;32m     10\u001b[0m \u001b[38;5;28;01mtry\u001b[39;00m:\n",
      "File \u001b[0;32m~/miniforge3/envs/test_env/lib/python3.12/site-packages/torchvision/_meta_registrations.py:25\u001b[0m\n\u001b[1;32m     20\u001b[0m         \u001b[38;5;28;01mreturn\u001b[39;00m fn\n\u001b[1;32m     22\u001b[0m     \u001b[38;5;28;01mreturn\u001b[39;00m wrapper\n\u001b[0;32m---> 25\u001b[0m \u001b[38;5;129m@register_meta\u001b[39m(\u001b[38;5;124m\"\u001b[39m\u001b[38;5;124mroi_align\u001b[39m\u001b[38;5;124m\"\u001b[39m)\n\u001b[1;32m     26\u001b[0m \u001b[38;5;28;01mdef\u001b[39;00m \u001b[38;5;21mmeta_roi_align\u001b[39m(\u001b[38;5;28minput\u001b[39m, rois, spatial_scale, pooled_height, pooled_width, sampling_ratio, aligned):\n\u001b[1;32m     27\u001b[0m     torch\u001b[38;5;241m.\u001b[39m_check(rois\u001b[38;5;241m.\u001b[39msize(\u001b[38;5;241m1\u001b[39m) \u001b[38;5;241m==\u001b[39m \u001b[38;5;241m5\u001b[39m, \u001b[38;5;28;01mlambda\u001b[39;00m: \u001b[38;5;124m\"\u001b[39m\u001b[38;5;124mrois must have shape as Tensor[K, 5]\u001b[39m\u001b[38;5;124m\"\u001b[39m)\n\u001b[1;32m     28\u001b[0m     torch\u001b[38;5;241m.\u001b[39m_check(\n\u001b[1;32m     29\u001b[0m         \u001b[38;5;28minput\u001b[39m\u001b[38;5;241m.\u001b[39mdtype \u001b[38;5;241m==\u001b[39m rois\u001b[38;5;241m.\u001b[39mdtype,\n\u001b[1;32m     30\u001b[0m         \u001b[38;5;28;01mlambda\u001b[39;00m: (\n\u001b[0;32m   (...)\u001b[0m\n\u001b[1;32m     33\u001b[0m         ),\n\u001b[1;32m     34\u001b[0m     )\n",
      "File \u001b[0;32m~/miniforge3/envs/test_env/lib/python3.12/site-packages/torchvision/_meta_registrations.py:18\u001b[0m, in \u001b[0;36mregister_meta.<locals>.wrapper\u001b[0;34m(fn)\u001b[0m\n\u001b[1;32m     17\u001b[0m \u001b[38;5;28;01mdef\u001b[39;00m \u001b[38;5;21mwrapper\u001b[39m(fn):\n\u001b[0;32m---> 18\u001b[0m     \u001b[38;5;28;01mif\u001b[39;00m torchvision\u001b[38;5;241m.\u001b[39mextension\u001b[38;5;241m.\u001b[39m_has_ops():\n\u001b[1;32m     19\u001b[0m         get_meta_lib()\u001b[38;5;241m.\u001b[39mimpl(\u001b[38;5;28mgetattr\u001b[39m(\u001b[38;5;28mgetattr\u001b[39m(torch\u001b[38;5;241m.\u001b[39mops\u001b[38;5;241m.\u001b[39mtorchvision, op_name), overload_name), fn)\n\u001b[1;32m     20\u001b[0m     \u001b[38;5;28;01mreturn\u001b[39;00m fn\n",
      "\u001b[0;31mAttributeError\u001b[0m: partially initialized module 'torchvision' has no attribute 'extension' (most likely due to a circular import)"
     ]
    }
   ],
   "source": [
    "import matplotlib.pyplot as plt\n",
    "import numpy as np\n",
    "import torch\n",
    "import torch.nn as nn\n",
    "import torch.optim as optim\n",
    "from torchvision import datasets, transforms\n",
    "\n",
    "from utils import get_cifar_dataloaders, train, test\n",
    "\n",
    "# Device configuration\n",
    "device = torch.device('cuda' if torch.cuda.is_available() else 'cpu')\n",
    "\n",
    "EPOCH = 100\n",
    "LEARNING_RATE = 1e-3 # 0.001\n",
    "BATCH_SIZE = 64"
   ]
  },
  {
   "cell_type": "code",
   "execution_count": 2,
   "metadata": {},
   "outputs": [
    {
     "name": "stdout",
     "output_type": "stream",
     "text": [
      "Files already downloaded and verified\n",
      "Files already downloaded and verified\n"
     ]
    }
   ],
   "source": [
    "train_loader, validation_loader, test_loader = get_cifar_dataloaders(BATCH_SIZE)"
   ]
  },
  {
   "cell_type": "code",
   "execution_count": 3,
   "metadata": {},
   "outputs": [],
   "source": [
    "# Define the model architecture\n",
    "class InzvaNet(nn.Module):\n",
    "    \"\"\"An Inzva exclusive neural network.\"\"\"\n",
    "    def __init__(self):\n",
    "        super(InzvaNet, self).__init__()\n",
    "        self.sequential = nn.Sequential(\n",
    "            nn.ZeroPad2d(1), # 32x32x3 -> 34x34x3\n",
    "            nn.Conv2d(in_channels=3, out_channels=32, kernel_size=3), # 34x34x3 -> 32x32x32\n",
    "            nn.LeakyReLU(), \n",
    "            nn.MaxPool2d(kernel_size=2, stride=2), # 32x32x32 -> 16x16x32 || #of channels will not change\n",
    "            nn.ZeroPad2d(1),\n",
    "            nn.Conv2d(in_channels=32, out_channels=64, kernel_size=3), # 16x16x32 -> 14x14x64 (since no padding it will 16x16 -> 14x14) || #of channels will change since filter is channel dependent\n",
    "            nn.LeakyReLU(),\n",
    "            nn.MaxPool2d(kernel_size=2, stride=2), # 14x14x64 -> 7x7x64\n",
    "            nn.Dropout(p=0.5), \n",
    "            nn.Flatten(), # 7x7x64 -> 3136 \n",
    "            nn.Linear(4096, 10), # 3136 -> 10\n",
    "            nn.Softmax()\n",
    "        )\n",
    "\n",
    "    def forward(self, x):\n",
    "        return self.sequential(x)\n",
    "\n",
    "model = InzvaNet()\n",
    "model.to(device)\n",
    "\n",
    "# Define the loss function and optimizer\n",
    "criterion = nn.CrossEntropyLoss()\n",
    "optimizer = optim.Adam(model.parameters(), lr=LEARNING_RATE)"
   ]
  },
  {
   "cell_type": "code",
   "execution_count": 4,
   "metadata": {},
   "outputs": [
    {
     "name": "stdout",
     "output_type": "stream",
     "text": [
      "Epoch 1/100\n",
      "\u001b[1m  1/704\u001b[0m \u001b[37m━━━━━━━━━━━━━━━━━━━━\u001b[0m \u001b[1m2:51\u001b[0m 244ms/step - loss: 2.3026 - acc: 0.1289 - precision: 0.1289 - recall: 0.1289 - f1: 0.1289"
     ]
    },
    {
     "name": "stderr",
     "output_type": "stream",
     "text": [
      "/home/melihdarcan/.cache/pypoetry/virtualenvs/dlsg-cnn-aqO6POrr-py3.11/lib/python3.11/site-packages/torch/nn/modules/module.py:1553: UserWarning: Implicit dimension choice for softmax has been deprecated. Change the call to include dim=X as an argument.\n",
      "  return self._call_impl(*args, **kwargs)\n",
      "WARNING: All log messages before absl::InitializeLog() is called are written to STDERR\n",
      "I0000 00:00:1727505432.860464  304028 cuda_executor.cc:1015] successful NUMA node read from SysFS had negative value (-1), but there must be at least one NUMA node, so returning NUMA node zero. See more at https://github.com/torvalds/linux/blob/v6.0/Documentation/ABI/testing/sysfs-bus-pci#L344-L355\n",
      "2024-09-28 09:37:12.863001: W tensorflow/core/common_runtime/gpu/gpu_device.cc:2343] Cannot dlopen some GPU libraries. Please make sure the missing libraries mentioned above are installed properly if you would like to use GPU. Follow the guide at https://www.tensorflow.org/install/gpu for how to download and setup the required libraries for your platform.\n",
      "Skipping registering GPU devices...\n"
     ]
    },
    {
     "name": "stdout",
     "output_type": "stream",
     "text": [
      "\u001b[1m704/704\u001b[0m \u001b[32m━━━━━━━━━━━━━━━━━━━━\u001b[0m\u001b[37m\u001b[0m \u001b[1m8s\u001b[0m 10ms/step - loss: 2.1886 - acc: 0.2555 - precision: 0.2555 - recall: 0.2555 - f1: 0.2555\n",
      "Validation 1/100\n",
      "\u001b[1m79/79\u001b[0m \u001b[32m━━━━━━━━━━━━━━━━━━━━\u001b[0m\u001b[37m\u001b[0m \u001b[1m2s\u001b[0m 29ms/step - val_loss: 2.0565 - val_acc: 0.3196 - val_precision: 0.3196 - val_recall: 0.3196 - val_f1: 0.3196\n",
      "Epoch 2/100\n",
      "\u001b[1m704/704\u001b[0m \u001b[32m━━━━━━━━━━━━━━━━━━━━\u001b[0m\u001b[37m\u001b[0m \u001b[1m22s\u001b[0m 31ms/step - loss: 2.0570 - acc: 0.3979 - precision: 0.3979 - recall: 0.3979 - f1: 0.3979\n",
      "Validation 2/100\n",
      "\u001b[1m79/79\u001b[0m \u001b[32m━━━━━━━━━━━━━━━━━━━━\u001b[0m\u001b[37m\u001b[0m \u001b[1m2s\u001b[0m 29ms/step - val_loss: 2.0343 - val_acc: 0.4050 - val_precision: 0.4050 - val_recall: 0.4050 - val_f1: 0.4050\n",
      "Epoch 3/100\n",
      "\u001b[1m704/704\u001b[0m \u001b[32m━━━━━━━━━━━━━━━━━━━━\u001b[0m\u001b[37m\u001b[0m \u001b[1m21s\u001b[0m 30ms/step - loss: 2.0289 - acc: 0.4276 - precision: 0.4276 - recall: 0.4276 - f1: 0.4276\n",
      "Validation 3/100\n",
      "\u001b[1m79/79\u001b[0m \u001b[32m━━━━━━━━━━━━━━━━━━━━\u001b[0m\u001b[37m\u001b[0m \u001b[1m2s\u001b[0m 29ms/step - val_loss: 2.0020 - val_acc: 0.4320 - val_precision: 0.4320 - val_recall: 0.4320 - val_f1: 0.4320\n",
      "Epoch 4/100\n",
      "\u001b[1m704/704\u001b[0m \u001b[32m━━━━━━━━━━━━━━━━━━━━\u001b[0m\u001b[37m\u001b[0m \u001b[1m22s\u001b[0m 31ms/step - loss: 2.0049 - acc: 0.4548 - precision: 0.4548 - recall: 0.4548 - f1: 0.4548\n",
      "Validation 4/100\n",
      "\u001b[1m79/79\u001b[0m \u001b[32m━━━━━━━━━━━━━━━━━━━━\u001b[0m\u001b[37m\u001b[0m \u001b[1m3s\u001b[0m 31ms/step - val_loss: 1.9817 - val_acc: 0.4553 - val_precision: 0.4553 - val_recall: 0.4553 - val_f1: 0.4553\n",
      "Epoch 5/100\n",
      "\u001b[1m704/704\u001b[0m \u001b[32m━━━━━━━━━━━━━━━━━━━━\u001b[0m\u001b[37m\u001b[0m \u001b[1m21s\u001b[0m 30ms/step - loss: 1.9916 - acc: 0.4669 - precision: 0.4669 - recall: 0.4669 - f1: 0.4669\n",
      "Validation 5/100\n",
      "\u001b[1m79/79\u001b[0m \u001b[32m━━━━━━━━━━━━━━━━━━━━\u001b[0m\u001b[37m\u001b[0m \u001b[1m2s\u001b[0m 29ms/step - val_loss: 1.9837 - val_acc: 0.4701 - val_precision: 0.4701 - val_recall: 0.4701 - val_f1: 0.4701\n",
      "Epoch 6/100\n",
      "\u001b[1m704/704\u001b[0m \u001b[32m━━━━━━━━━━━━━━━━━━━━\u001b[0m\u001b[37m\u001b[0m \u001b[1m22s\u001b[0m 31ms/step - loss: 1.9797 - acc: 0.4783 - precision: 0.4783 - recall: 0.4783 - f1: 0.4783\n",
      "Validation 6/100\n",
      "\u001b[1m79/79\u001b[0m \u001b[32m━━━━━━━━━━━━━━━━━━━━\u001b[0m\u001b[37m\u001b[0m \u001b[1m2s\u001b[0m 29ms/step - val_loss: 1.9624 - val_acc: 0.4800 - val_precision: 0.4800 - val_recall: 0.4800 - val_f1: 0.4800\n",
      "Epoch 7/100\n",
      "\u001b[1m704/704\u001b[0m \u001b[32m━━━━━━━━━━━━━━━━━━━━\u001b[0m\u001b[37m\u001b[0m \u001b[1m22s\u001b[0m 31ms/step - loss: 1.9717 - acc: 0.4866 - precision: 0.4866 - recall: 0.4866 - f1: 0.4866\n",
      "Validation 7/100\n",
      "\u001b[1m79/79\u001b[0m \u001b[32m━━━━━━━━━━━━━━━━━━━━\u001b[0m\u001b[37m\u001b[0m \u001b[1m2s\u001b[0m 30ms/step - val_loss: 1.9785 - val_acc: 0.4874 - val_precision: 0.4874 - val_recall: 0.4874 - val_f1: 0.4874\n",
      "Epoch 8/100\n",
      "\u001b[1m704/704\u001b[0m \u001b[32m━━━━━━━━━━━━━━━━━━━━\u001b[0m\u001b[37m\u001b[0m \u001b[1m22s\u001b[0m 31ms/step - loss: 1.9641 - acc: 0.4931 - precision: 0.4931 - recall: 0.4931 - f1: 0.4931\n",
      "Validation 8/100\n",
      "\u001b[1m79/79\u001b[0m \u001b[32m━━━━━━━━━━━━━━━━━━━━\u001b[0m\u001b[37m\u001b[0m \u001b[1m2s\u001b[0m 25ms/step - val_loss: 1.9453 - val_acc: 0.4927 - val_precision: 0.4927 - val_recall: 0.4927 - val_f1: 0.4927\n",
      "Epoch 9/100\n",
      "\u001b[1m704/704\u001b[0m \u001b[32m━━━━━━━━━━━━━━━━━━━━\u001b[0m\u001b[37m\u001b[0m \u001b[1m22s\u001b[0m 31ms/step - loss: 1.9580 - acc: 0.4985 - precision: 0.4985 - recall: 0.4985 - f1: 0.4985\n",
      "Validation 9/100\n",
      "\u001b[1m79/79\u001b[0m \u001b[32m━━━━━━━━━━━━━━━━━━━━\u001b[0m\u001b[37m\u001b[0m \u001b[1m2s\u001b[0m 30ms/step - val_loss: 1.9411 - val_acc: 0.5036 - val_precision: 0.5036 - val_recall: 0.5036 - val_f1: 0.5036\n",
      "Epoch 10/100\n",
      "\u001b[1m704/704\u001b[0m \u001b[32m━━━━━━━━━━━━━━━━━━━━\u001b[0m\u001b[37m\u001b[0m \u001b[1m21s\u001b[0m 30ms/step - loss: 1.9480 - acc: 0.5092 - precision: 0.5092 - recall: 0.5092 - f1: 0.5092\n",
      "Validation 10/100\n",
      "\u001b[1m79/79\u001b[0m \u001b[32m━━━━━━━━━━━━━━━━━━━━\u001b[0m\u001b[37m\u001b[0m \u001b[1m2s\u001b[0m 31ms/step - val_loss: 1.9397 - val_acc: 0.5128 - val_precision: 0.5128 - val_recall: 0.5128 - val_f1: 0.5128\n",
      "Epoch 11/100\n",
      "\u001b[1m704/704\u001b[0m \u001b[32m━━━━━━━━━━━━━━━━━━━━\u001b[0m\u001b[37m\u001b[0m \u001b[1m22s\u001b[0m 31ms/step - loss: 1.9381 - acc: 0.5203 - precision: 0.5203 - recall: 0.5203 - f1: 0.5203\n",
      "Validation 11/100\n",
      "\u001b[1m79/79\u001b[0m \u001b[32m━━━━━━━━━━━━━━━━━━━━\u001b[0m\u001b[37m\u001b[0m \u001b[1m2s\u001b[0m 29ms/step - val_loss: 1.9213 - val_acc: 0.5191 - val_precision: 0.5191 - val_recall: 0.5191 - val_f1: 0.5191\n",
      "Epoch 12/100\n",
      "\u001b[1m704/704\u001b[0m \u001b[32m━━━━━━━━━━━━━━━━━━━━\u001b[0m\u001b[37m\u001b[0m \u001b[1m21s\u001b[0m 30ms/step - loss: 1.9274 - acc: 0.5332 - precision: 0.5332 - recall: 0.5332 - f1: 0.5332\n",
      "Validation 12/100\n",
      "\u001b[1m79/79\u001b[0m \u001b[32m━━━━━━━━━━━━━━━━━━━━\u001b[0m\u001b[37m\u001b[0m \u001b[1m2s\u001b[0m 31ms/step - val_loss: 1.9156 - val_acc: 0.5297 - val_precision: 0.5297 - val_recall: 0.5297 - val_f1: 0.5297\n",
      "Epoch 13/100\n",
      "\u001b[1m704/704\u001b[0m \u001b[32m━━━━━━━━━━━━━━━━━━━━\u001b[0m\u001b[37m\u001b[0m \u001b[1m22s\u001b[0m 32ms/step - loss: 1.9251 - acc: 0.5321 - precision: 0.5321 - recall: 0.5321 - f1: 0.5321\n",
      "Validation 13/100\n",
      "\u001b[1m79/79\u001b[0m \u001b[32m━━━━━━━━━━━━━━━━━━━━\u001b[0m\u001b[37m\u001b[0m \u001b[1m2s\u001b[0m 30ms/step - val_loss: 1.9191 - val_acc: 0.5302 - val_precision: 0.5302 - val_recall: 0.5302 - val_f1: 0.5302\n",
      "Epoch 14/100\n",
      "\u001b[1m704/704\u001b[0m \u001b[32m━━━━━━━━━━━━━━━━━━━━\u001b[0m\u001b[37m\u001b[0m \u001b[1m22s\u001b[0m 31ms/step - loss: 1.9227 - acc: 0.5363 - precision: 0.5363 - recall: 0.5363 - f1: 0.5363\n",
      "Validation 14/100\n",
      "\u001b[1m79/79\u001b[0m \u001b[32m━━━━━━━━━━━━━━━━━━━━\u001b[0m\u001b[37m\u001b[0m \u001b[1m2s\u001b[0m 30ms/step - val_loss: 1.9180 - val_acc: 0.5342 - val_precision: 0.5342 - val_recall: 0.5342 - val_f1: 0.5342\n",
      "Epoch 15/100\n",
      "\u001b[1m704/704\u001b[0m \u001b[32m━━━━━━━━━━━━━━━━━━━━\u001b[0m\u001b[37m\u001b[0m \u001b[1m22s\u001b[0m 31ms/step - loss: 1.9159 - acc: 0.5407 - precision: 0.5407 - recall: 0.5407 - f1: 0.5407\n",
      "Validation 15/100\n",
      "\u001b[1m79/79\u001b[0m \u001b[32m━━━━━━━━━━━━━━━━━━━━\u001b[0m\u001b[37m\u001b[0m \u001b[1m2s\u001b[0m 30ms/step - val_loss: 1.9146 - val_acc: 0.5406 - val_precision: 0.5406 - val_recall: 0.5406 - val_f1: 0.5406\n",
      "Epoch 16/100\n",
      "\u001b[1m704/704\u001b[0m \u001b[32m━━━━━━━━━━━━━━━━━━━━\u001b[0m\u001b[37m\u001b[0m \u001b[1m21s\u001b[0m 30ms/step - loss: 1.9153 - acc: 0.5425 - precision: 0.5425 - recall: 0.5425 - f1: 0.5425\n",
      "Validation 16/100\n",
      "\u001b[1m79/79\u001b[0m \u001b[32m━━━━━━━━━━━━━━━━━━━━\u001b[0m\u001b[37m\u001b[0m \u001b[1m2s\u001b[0m 30ms/step - val_loss: 1.9065 - val_acc: 0.5478 - val_precision: 0.5478 - val_recall: 0.5478 - val_f1: 0.5478\n",
      "Epoch 17/100\n",
      "\u001b[1m704/704\u001b[0m \u001b[32m━━━━━━━━━━━━━━━━━━━━\u001b[0m\u001b[37m\u001b[0m \u001b[1m22s\u001b[0m 32ms/step - loss: 1.9049 - acc: 0.5538 - precision: 0.5538 - recall: 0.5538 - f1: 0.5538\n",
      "Validation 17/100\n",
      "\u001b[1m79/79\u001b[0m \u001b[32m━━━━━━━━━━━━━━━━━━━━\u001b[0m\u001b[37m\u001b[0m \u001b[1m2s\u001b[0m 25ms/step - val_loss: 1.8956 - val_acc: 0.5522 - val_precision: 0.5522 - val_recall: 0.5522 - val_f1: 0.5522\n",
      "Epoch 18/100\n",
      "\u001b[1m704/704\u001b[0m \u001b[32m━━━━━━━━━━━━━━━━━━━━\u001b[0m\u001b[37m\u001b[0m \u001b[1m23s\u001b[0m 32ms/step - loss: 1.9092 - acc: 0.5500 - precision: 0.5500 - recall: 0.5500 - f1: 0.5500\n",
      "Validation 18/100\n",
      "\u001b[1m79/79\u001b[0m \u001b[32m━━━━━━━━━━━━━━━━━━━━\u001b[0m\u001b[37m\u001b[0m \u001b[1m2s\u001b[0m 31ms/step - val_loss: 1.9192 - val_acc: 0.5547 - val_precision: 0.5547 - val_recall: 0.5547 - val_f1: 0.5547\n",
      "Epoch 19/100\n",
      "\u001b[1m704/704\u001b[0m \u001b[32m━━━━━━━━━━━━━━━━━━━━\u001b[0m\u001b[37m\u001b[0m \u001b[1m21s\u001b[0m 30ms/step - loss: 1.8975 - acc: 0.5610 - precision: 0.5610 - recall: 0.5610 - f1: 0.5610\n",
      "Validation 19/100\n",
      "\u001b[1m79/79\u001b[0m \u001b[32m━━━━━━━━━━━━━━━━━━━━\u001b[0m\u001b[37m\u001b[0m \u001b[1m2s\u001b[0m 30ms/step - val_loss: 1.8953 - val_acc: 0.5595 - val_precision: 0.5595 - val_recall: 0.5595 - val_f1: 0.5595\n",
      "Epoch 20/100\n",
      "\u001b[1m704/704\u001b[0m \u001b[32m━━━━━━━━━━━━━━━━━━━━\u001b[0m\u001b[37m\u001b[0m \u001b[1m22s\u001b[0m 32ms/step - loss: 1.9026 - acc: 0.5547 - precision: 0.5547 - recall: 0.5547 - f1: 0.5547\n",
      "Validation 20/100\n",
      "\u001b[1m79/79\u001b[0m \u001b[32m━━━━━━━━━━━━━━━━━━━━\u001b[0m\u001b[37m\u001b[0m \u001b[1m2s\u001b[0m 30ms/step - val_loss: 1.8822 - val_acc: 0.5574 - val_precision: 0.5574 - val_recall: 0.5574 - val_f1: 0.5574\n",
      "Epoch 21/100\n",
      "\u001b[1m704/704\u001b[0m \u001b[32m━━━━━━━━━━━━━━━━━━━━\u001b[0m\u001b[37m\u001b[0m \u001b[1m21s\u001b[0m 30ms/step - loss: 1.8944 - acc: 0.5646 - precision: 0.5646 - recall: 0.5646 - f1: 0.5646\n",
      "Validation 21/100\n",
      "\u001b[1m79/79\u001b[0m \u001b[32m━━━━━━━━━━━━━━━━━━━━\u001b[0m\u001b[37m\u001b[0m \u001b[1m2s\u001b[0m 30ms/step - val_loss: 1.8818 - val_acc: 0.5671 - val_precision: 0.5671 - val_recall: 0.5671 - val_f1: 0.5671\n",
      "Epoch 22/100\n",
      "\u001b[1m704/704\u001b[0m \u001b[32m━━━━━━━━━━━━━━━━━━━━\u001b[0m\u001b[37m\u001b[0m \u001b[1m22s\u001b[0m 32ms/step - loss: 1.8855 - acc: 0.5720 - precision: 0.5720 - recall: 0.5720 - f1: 0.5720\n",
      "Validation 22/100\n",
      "\u001b[1m79/79\u001b[0m \u001b[32m━━━━━━━━━━━━━━━━━━━━\u001b[0m\u001b[37m\u001b[0m \u001b[1m2s\u001b[0m 30ms/step - val_loss: 1.8902 - val_acc: 0.5670 - val_precision: 0.5670 - val_recall: 0.5670 - val_f1: 0.5670\n",
      "Epoch 23/100\n",
      "\u001b[1m704/704\u001b[0m \u001b[32m━━━━━━━━━━━━━━━━━━━━\u001b[0m\u001b[37m\u001b[0m \u001b[1m21s\u001b[0m 30ms/step - loss: 1.8934 - acc: 0.5663 - precision: 0.5663 - recall: 0.5663 - f1: 0.5663\n",
      "Validation 23/100\n",
      "\u001b[1m79/79\u001b[0m \u001b[32m━━━━━━━━━━━━━━━━━━━━\u001b[0m\u001b[37m\u001b[0m \u001b[1m2s\u001b[0m 29ms/step - val_loss: 1.8854 - val_acc: 0.5712 - val_precision: 0.5712 - val_recall: 0.5712 - val_f1: 0.5712\n",
      "Epoch 24/100\n",
      "\u001b[1m704/704\u001b[0m \u001b[32m━━━━━━━━━━━━━━━━━━━━\u001b[0m\u001b[37m\u001b[0m \u001b[1m22s\u001b[0m 31ms/step - loss: 1.8885 - acc: 0.5703 - precision: 0.5703 - recall: 0.5703 - f1: 0.5703\n",
      "Validation 24/100\n",
      "\u001b[1m79/79\u001b[0m \u001b[32m━━━━━━━━━━━━━━━━━━━━\u001b[0m\u001b[37m\u001b[0m \u001b[1m2s\u001b[0m 30ms/step - val_loss: 1.8775 - val_acc: 0.5730 - val_precision: 0.5730 - val_recall: 0.5730 - val_f1: 0.5730\n",
      "Epoch 25/100\n",
      "\u001b[1m704/704\u001b[0m \u001b[32m━━━━━━━━━━━━━━━━━━━━\u001b[0m\u001b[37m\u001b[0m \u001b[1m21s\u001b[0m 30ms/step - loss: 1.8852 - acc: 0.5741 - precision: 0.5741 - recall: 0.5741 - f1: 0.5741\n",
      "Validation 25/100\n",
      "\u001b[1m79/79\u001b[0m \u001b[32m━━━━━━━━━━━━━━━━━━━━\u001b[0m\u001b[37m\u001b[0m \u001b[1m2s\u001b[0m 30ms/step - val_loss: 1.8869 - val_acc: 0.5755 - val_precision: 0.5755 - val_recall: 0.5755 - val_f1: 0.5755\n",
      "Epoch 26/100\n",
      "\u001b[1m704/704\u001b[0m \u001b[32m━━━━━━━━━━━━━━━━━━━━\u001b[0m\u001b[37m\u001b[0m \u001b[1m22s\u001b[0m 31ms/step - loss: 1.8817 - acc: 0.5765 - precision: 0.5765 - recall: 0.5765 - f1: 0.5765\n",
      "Validation 26/100\n",
      "\u001b[1m79/79\u001b[0m \u001b[32m━━━━━━━━━━━━━━━━━━━━\u001b[0m\u001b[37m\u001b[0m \u001b[1m2s\u001b[0m 23ms/step - val_loss: 1.8732 - val_acc: 0.5770 - val_precision: 0.5770 - val_recall: 0.5770 - val_f1: 0.5770\n",
      "Epoch 27/100\n",
      "\u001b[1m704/704\u001b[0m \u001b[32m━━━━━━━━━━━━━━━━━━━━\u001b[0m\u001b[37m\u001b[0m \u001b[1m22s\u001b[0m 31ms/step - loss: 1.8800 - acc: 0.5792 - precision: 0.5792 - recall: 0.5792 - f1: 0.5792\n",
      "Validation 27/100\n",
      "\u001b[1m79/79\u001b[0m \u001b[32m━━━━━━━━━━━━━━━━━━━━\u001b[0m\u001b[37m\u001b[0m \u001b[1m2s\u001b[0m 29ms/step - val_loss: 1.8576 - val_acc: 0.5785 - val_precision: 0.5785 - val_recall: 0.5785 - val_f1: 0.5785\n",
      "Epoch 28/100\n",
      "\u001b[1m704/704\u001b[0m \u001b[32m━━━━━━━━━━━━━━━━━━━━\u001b[0m\u001b[37m\u001b[0m \u001b[1m21s\u001b[0m 30ms/step - loss: 1.8764 - acc: 0.5809 - precision: 0.5809 - recall: 0.5809 - f1: 0.5809\n",
      "Validation 28/100\n",
      "\u001b[1m79/79\u001b[0m \u001b[32m━━━━━━━━━━━━━━━━━━━━\u001b[0m\u001b[37m\u001b[0m \u001b[1m2s\u001b[0m 30ms/step - val_loss: 1.8622 - val_acc: 0.5839 - val_precision: 0.5839 - val_recall: 0.5839 - val_f1: 0.5839\n",
      "Epoch 29/100\n",
      "\u001b[1m704/704\u001b[0m \u001b[32m━━━━━━━━━━━━━━━━━━━━\u001b[0m\u001b[37m\u001b[0m \u001b[1m22s\u001b[0m 31ms/step - loss: 1.8760 - acc: 0.5817 - precision: 0.5817 - recall: 0.5817 - f1: 0.5817\n",
      "Validation 29/100\n",
      "\u001b[1m79/79\u001b[0m \u001b[32m━━━━━━━━━━━━━━━━━━━━\u001b[0m\u001b[37m\u001b[0m \u001b[1m3s\u001b[0m 31ms/step - val_loss: 1.8600 - val_acc: 0.5854 - val_precision: 0.5854 - val_recall: 0.5854 - val_f1: 0.5854\n",
      "Epoch 30/100\n",
      "\u001b[1m704/704\u001b[0m \u001b[32m━━━━━━━━━━━━━━━━━━━━\u001b[0m\u001b[37m\u001b[0m \u001b[1m22s\u001b[0m 31ms/step - loss: 1.8709 - acc: 0.5885 - precision: 0.5885 - recall: 0.5885 - f1: 0.5885\n",
      "Validation 30/100\n",
      "\u001b[1m79/79\u001b[0m \u001b[32m━━━━━━━━━━━━━━━━━━━━\u001b[0m\u001b[37m\u001b[0m \u001b[1m2s\u001b[0m 30ms/step - val_loss: 1.8467 - val_acc: 0.5877 - val_precision: 0.5877 - val_recall: 0.5877 - val_f1: 0.5877\n",
      "Epoch 31/100\n",
      "\u001b[1m704/704\u001b[0m \u001b[32m━━━━━━━━━━━━━━━━━━━━\u001b[0m\u001b[37m\u001b[0m \u001b[1m22s\u001b[0m 31ms/step - loss: 1.8745 - acc: 0.5831 - precision: 0.5831 - recall: 0.5831 - f1: 0.5831\n",
      "Validation 31/100\n",
      "\u001b[1m79/79\u001b[0m \u001b[32m━━━━━━━━━━━━━━━━━━━━\u001b[0m\u001b[37m\u001b[0m \u001b[1m2s\u001b[0m 29ms/step - val_loss: 1.8632 - val_acc: 0.5831 - val_precision: 0.5831 - val_recall: 0.5831 - val_f1: 0.5831\n",
      "Epoch 32/100\n",
      "\u001b[1m704/704\u001b[0m \u001b[32m━━━━━━━━━━━━━━━━━━━━\u001b[0m\u001b[37m\u001b[0m \u001b[1m21s\u001b[0m 30ms/step - loss: 1.8727 - acc: 0.5854 - precision: 0.5854 - recall: 0.5854 - f1: 0.5854\n",
      "Validation 32/100\n",
      "\u001b[1m79/79\u001b[0m \u001b[32m━━━━━━━━━━━━━━━━━━━━\u001b[0m\u001b[37m\u001b[0m \u001b[1m2s\u001b[0m 30ms/step - val_loss: 1.8569 - val_acc: 0.5870 - val_precision: 0.5870 - val_recall: 0.5870 - val_f1: 0.5870\n",
      "Epoch 33/100\n",
      "\u001b[1m704/704\u001b[0m \u001b[32m━━━━━━━━━━━━━━━━━━━━\u001b[0m\u001b[37m\u001b[0m \u001b[1m22s\u001b[0m 31ms/step - loss: 1.8686 - acc: 0.5904 - precision: 0.5904 - recall: 0.5904 - f1: 0.5904\n",
      "Validation 33/100\n",
      "\u001b[1m79/79\u001b[0m \u001b[32m━━━━━━━━━━━━━━━━━━━━\u001b[0m\u001b[37m\u001b[0m \u001b[1m2s\u001b[0m 30ms/step - val_loss: 1.8526 - val_acc: 0.5929 - val_precision: 0.5929 - val_recall: 0.5929 - val_f1: 0.5929\n",
      "Epoch 34/100\n",
      "\u001b[1m704/704\u001b[0m \u001b[32m━━━━━━━━━━━━━━━━━━━━\u001b[0m\u001b[37m\u001b[0m \u001b[1m21s\u001b[0m 30ms/step - loss: 1.8670 - acc: 0.5909 - precision: 0.5909 - recall: 0.5909 - f1: 0.5909\n",
      "Validation 34/100\n",
      "\u001b[1m79/79\u001b[0m \u001b[32m━━━━━━━━━━━━━━━━━━━━\u001b[0m\u001b[37m\u001b[0m \u001b[1m2s\u001b[0m 30ms/step - val_loss: 1.8426 - val_acc: 0.5929 - val_precision: 0.5929 - val_recall: 0.5929 - val_f1: 0.5929\n",
      "Epoch 35/100\n",
      "\u001b[1m704/704\u001b[0m \u001b[32m━━━━━━━━━━━━━━━━━━━━\u001b[0m\u001b[37m\u001b[0m \u001b[1m21s\u001b[0m 30ms/step - loss: 1.8641 - acc: 0.5952 - precision: 0.5952 - recall: 0.5952 - f1: 0.5952\n",
      "Validation 35/100\n",
      "\u001b[1m79/79\u001b[0m \u001b[32m━━━━━━━━━━━━━━━━━━━━\u001b[0m\u001b[37m\u001b[0m \u001b[1m2s\u001b[0m 29ms/step - val_loss: 1.8437 - val_acc: 0.5940 - val_precision: 0.5940 - val_recall: 0.5940 - val_f1: 0.5940\n",
      "Epoch 36/100\n",
      "\u001b[1m704/704\u001b[0m \u001b[32m━━━━━━━━━━━━━━━━━━━━\u001b[0m\u001b[37m\u001b[0m \u001b[1m21s\u001b[0m 30ms/step - loss: 1.8642 - acc: 0.5940 - precision: 0.5940 - recall: 0.5940 - f1: 0.5940\n",
      "Validation 36/100\n",
      "\u001b[1m79/79\u001b[0m \u001b[32m━━━━━━━━━━━━━━━━━━━━\u001b[0m\u001b[37m\u001b[0m \u001b[1m2s\u001b[0m 30ms/step - val_loss: 1.8518 - val_acc: 0.5944 - val_precision: 0.5944 - val_recall: 0.5944 - val_f1: 0.5944\n",
      "Epoch 37/100\n",
      "\u001b[1m704/704\u001b[0m \u001b[32m━━━━━━━━━━━━━━━━━━━━\u001b[0m\u001b[37m\u001b[0m \u001b[1m21s\u001b[0m 30ms/step - loss: 1.8684 - acc: 0.5898 - precision: 0.5898 - recall: 0.5898 - f1: 0.5898\n",
      "Validation 37/100\n",
      "\u001b[1m79/79\u001b[0m \u001b[32m━━━━━━━━━━━━━━━━━━━━\u001b[0m\u001b[37m\u001b[0m \u001b[1m2s\u001b[0m 27ms/step - val_loss: 1.8399 - val_acc: 0.5965 - val_precision: 0.5965 - val_recall: 0.5965 - val_f1: 0.5965\n",
      "Epoch 38/100\n",
      "\u001b[1m704/704\u001b[0m \u001b[32m━━━━━━━━━━━━━━━━━━━━\u001b[0m\u001b[37m\u001b[0m \u001b[1m22s\u001b[0m 31ms/step - loss: 1.8634 - acc: 0.5957 - precision: 0.5957 - recall: 0.5957 - f1: 0.5957\n",
      "Validation 38/100\n",
      "\u001b[1m79/79\u001b[0m \u001b[32m━━━━━━━━━━━━━━━━━━━━\u001b[0m\u001b[37m\u001b[0m \u001b[1m2s\u001b[0m 29ms/step - val_loss: 1.8503 - val_acc: 0.5963 - val_precision: 0.5963 - val_recall: 0.5963 - val_f1: 0.5963\n",
      "Epoch 39/100\n",
      "\u001b[1m704/704\u001b[0m \u001b[32m━━━━━━━━━━━━━━━━━━━━\u001b[0m\u001b[37m\u001b[0m \u001b[1m21s\u001b[0m 29ms/step - loss: 1.8597 - acc: 0.5982 - precision: 0.5982 - recall: 0.5982 - f1: 0.5982\n",
      "Validation 39/100\n",
      "\u001b[1m79/79\u001b[0m \u001b[32m━━━━━━━━━━━━━━━━━━━━\u001b[0m\u001b[37m\u001b[0m \u001b[1m2s\u001b[0m 29ms/step - val_loss: 1.8417 - val_acc: 0.5990 - val_precision: 0.5990 - val_recall: 0.5990 - val_f1: 0.5990\n",
      "Epoch 40/100\n",
      "\u001b[1m704/704\u001b[0m \u001b[32m━━━━━━━━━━━━━━━━━━━━\u001b[0m\u001b[37m\u001b[0m \u001b[1m21s\u001b[0m 30ms/step - loss: 1.8574 - acc: 0.6009 - precision: 0.6009 - recall: 0.6009 - f1: 0.6009\n",
      "Validation 40/100\n",
      "\u001b[1m79/79\u001b[0m \u001b[32m━━━━━━━━━━━━━━━━━━━━\u001b[0m\u001b[37m\u001b[0m \u001b[1m2s\u001b[0m 30ms/step - val_loss: 1.8427 - val_acc: 0.6001 - val_precision: 0.6001 - val_recall: 0.6001 - val_f1: 0.6001\n",
      "Epoch 41/100\n",
      "\u001b[1m704/704\u001b[0m \u001b[32m━━━━━━━━━━━━━━━━━━━━\u001b[0m\u001b[37m\u001b[0m \u001b[1m21s\u001b[0m 29ms/step - loss: 1.8547 - acc: 0.6031 - precision: 0.6031 - recall: 0.6031 - f1: 0.6031\n",
      "Validation 41/100\n",
      "\u001b[1m79/79\u001b[0m \u001b[32m━━━━━━━━━━━━━━━━━━━━\u001b[0m\u001b[37m\u001b[0m \u001b[1m2s\u001b[0m 30ms/step - val_loss: 1.8368 - val_acc: 0.6043 - val_precision: 0.6043 - val_recall: 0.6043 - val_f1: 0.6043\n",
      "Epoch 42/100\n",
      "\u001b[1m704/704\u001b[0m \u001b[32m━━━━━━━━━━━━━━━━━━━━\u001b[0m\u001b[37m\u001b[0m \u001b[1m21s\u001b[0m 30ms/step - loss: 1.8555 - acc: 0.6024 - precision: 0.6024 - recall: 0.6024 - f1: 0.6024\n",
      "Validation 42/100\n",
      "\u001b[1m79/79\u001b[0m \u001b[32m━━━━━━━━━━━━━━━━━━━━\u001b[0m\u001b[37m\u001b[0m \u001b[1m2s\u001b[0m 29ms/step - val_loss: 1.8593 - val_acc: 0.6039 - val_precision: 0.6039 - val_recall: 0.6039 - val_f1: 0.6039\n",
      "Epoch 43/100\n",
      "\u001b[1m704/704\u001b[0m \u001b[32m━━━━━━━━━━━━━━━━━━━━\u001b[0m\u001b[37m\u001b[0m \u001b[1m21s\u001b[0m 30ms/step - loss: 1.8619 - acc: 0.5961 - precision: 0.5961 - recall: 0.5961 - f1: 0.5961\n",
      "Validation 43/100\n",
      "\u001b[1m79/79\u001b[0m \u001b[32m━━━━━━━━━━━━━━━━━━━━\u001b[0m\u001b[37m\u001b[0m \u001b[1m2s\u001b[0m 30ms/step - val_loss: 1.8527 - val_acc: 0.6000 - val_precision: 0.6000 - val_recall: 0.6000 - val_f1: 0.6000\n",
      "Epoch 44/100\n",
      "\u001b[1m704/704\u001b[0m \u001b[32m━━━━━━━━━━━━━━━━━━━━\u001b[0m\u001b[37m\u001b[0m \u001b[1m22s\u001b[0m 31ms/step - loss: 1.8595 - acc: 0.5977 - precision: 0.5977 - recall: 0.5977 - f1: 0.5977\n",
      "Validation 44/100\n",
      "\u001b[1m79/79\u001b[0m \u001b[32m━━━━━━━━━━━━━━━━━━━━\u001b[0m\u001b[37m\u001b[0m \u001b[1m2s\u001b[0m 30ms/step - val_loss: 1.8398 - val_acc: 0.6033 - val_precision: 0.6033 - val_recall: 0.6033 - val_f1: 0.6033\n",
      "Epoch 45/100\n",
      "\u001b[1m704/704\u001b[0m \u001b[32m━━━━━━━━━━━━━━━━━━━━\u001b[0m\u001b[37m\u001b[0m \u001b[1m21s\u001b[0m 30ms/step - loss: 1.8599 - acc: 0.5997 - precision: 0.5997 - recall: 0.5997 - f1: 0.5997\n",
      "Validation 45/100\n",
      "\u001b[1m79/79\u001b[0m \u001b[32m━━━━━━━━━━━━━━━━━━━━\u001b[0m\u001b[37m\u001b[0m \u001b[1m2s\u001b[0m 29ms/step - val_loss: 1.8378 - val_acc: 0.6042 - val_precision: 0.6042 - val_recall: 0.6042 - val_f1: 0.6042\n",
      "Training stopped.\n"
     ]
    }
   ],
   "source": [
    "model, history = train(train_loader, model, criterion, optimizer, EPOCH, validation_loader=validation_loader)"
   ]
  },
  {
   "cell_type": "code",
   "execution_count": 5,
   "metadata": {},
   "outputs": [
    {
     "name": "stdout",
     "output_type": "stream",
     "text": [
      "Test\n",
      "\u001b[1m157/157\u001b[0m \u001b[32m━━━━━━━━━━━━━━━━━━━━\u001b[0m\u001b[37m\u001b[0m \u001b[1m5s\u001b[0m 29ms/step - loss: 1.7826 - acc: 0.6764 - precision: 0.6764 - recall: 0.6764 - f1: 0.6764\n"
     ]
    }
   ],
   "source": [
    "preds, ys, metrics = test(test_loader, model, criterion)"
   ]
  },
  {
   "cell_type": "code",
   "execution_count": 9,
   "metadata": {},
   "outputs": [
    {
     "data": {
      "text/plain": [
       "[<matplotlib.lines.Line2D at 0x795035f69b50>]"
      ]
     },
     "execution_count": 9,
     "metadata": {},
     "output_type": "execute_result"
    },
    {
     "data": {
      "image/png": "[encoded data removed]",
      "text/plain": [
       "<Figure size 640x480 with 1 Axes>"
      ]
     },
     "metadata": {},
     "output_type": "display_data"
    }
   ],
   "source": [
    "plt.plot(range(len(history[\"val_acc\"])), history[\"val_acc\"])"
   ]
  },
  {
   "cell_type": "code",
   "execution_count": 10,
   "metadata": {},
   "outputs": [
    {
     "data": {
      "text/plain": [
       "tensor(0.6043)"
      ]
     },
     "execution_count": 10,
     "metadata": {},
     "output_type": "execute_result"
    }
   ],
   "source": [
    "max(history[\"val_acc\"])"
   ]
  }
 ],
 "metadata": {
  "kernelspec": {
   "display_name": "test_env",
   "language": "python",
   "name": "python3"
  },
  "language_info": {
   "codemirror_mode": {
    "name": "ipython",
    "version": 3
   },
   "file_extension": ".py",
   "mimetype": "text/x-python",
   "name": "python",
   "nbconvert_exporter": "python",
   "pygments_lexer": "ipython3",
   "version": "3.12.2"
  }
 },
 "nbformat": 4,
 "nbformat_minor": 2
}
